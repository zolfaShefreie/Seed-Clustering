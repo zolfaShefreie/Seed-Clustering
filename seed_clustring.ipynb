{
  "nbformat": 4,
  "nbformat_minor": 0,
  "metadata": {
    "colab": {
      "name": "seed_clustring.ipynb",
      "provenance": [],
      "authorship_tag": "ABX9TyN1MzM8WoJ32NUsUbNAAe5j",
      "include_colab_link": true
    },
    "kernelspec": {
      "name": "python3",
      "display_name": "Python 3"
    },
    "language_info": {
      "name": "python"
    }
  },
  "cells": [
    {
      "cell_type": "markdown",
      "metadata": {
        "id": "view-in-github",
        "colab_type": "text"
      },
      "source": [
        "<a href=\"https://colab.research.google.com/github/zolfaShefreie/Seed-Clustering/blob/main/seed_clustring.ipynb\" target=\"_parent\"><img src=\"https://colab.research.google.com/assets/colab-badge.svg\" alt=\"Open In Colab\"/></a>"
      ]
    },
    {
      "cell_type": "markdown",
      "source": [
        "#imports"
      ],
      "metadata": {
        "id": "lTd49tjbm9Jg"
      }
    },
    {
      "cell_type": "code",
      "source": [
        "import requests"
      ],
      "metadata": {
        "id": "FwFWA3X6m-un"
      },
      "execution_count": 1,
      "outputs": []
    },
    {
      "cell_type": "code",
      "source": [
        "import numpy as np\n",
        "import pandas as pd\n",
        "import matplotlib.pyplot as plt\n",
        "import seaborn as sns"
      ],
      "metadata": {
        "id": "8z1rAtibnAnH"
      },
      "execution_count": 2,
      "outputs": []
    },
    {
      "cell_type": "code",
      "source": [
        "from sklearn.preprocessing import MinMaxScaler\n",
        "from sklearn.cluster import KMeans, AgglomerativeClustering, DBSCAN\n",
        "from sklearn.metrics.cluster import adjusted_mutual_info_score, adjusted_rand_score, silhouette_score\n",
        "from sklearn.decomposition import PCA"
      ],
      "metadata": {
        "id": "-QxST80CpQ6a"
      },
      "execution_count": 3,
      "outputs": []
    },
    {
      "cell_type": "markdown",
      "source": [
        "#download dataset"
      ],
      "metadata": {
        "id": "AVxkLG_0nA7C"
      }
    },
    {
      "cell_type": "code",
      "source": [
        "def download_file(url: str, file_path):\n",
        "  \"\"\"\n",
        "  download file and save on file path\n",
        "  \"\"\"\n",
        "  file_content = requests.get(url).text\n",
        "  file = open(file_path, 'w')\n",
        "  file.write(file_content)\n",
        "  file.close()"
      ],
      "metadata": {
        "id": "mg9p31EfnDih"
      },
      "execution_count": 4,
      "outputs": []
    },
    {
      "cell_type": "code",
      "source": [
        "dataset_url = 'https://raw.githubusercontent.com/zolfaShefreie/Seed-Clustering/main/ds.csv'\n",
        "\n",
        "dataset_file_path = \"ds.csv\""
      ],
      "metadata": {
        "id": "TNz3eIYCnDrw"
      },
      "execution_count": 5,
      "outputs": []
    },
    {
      "cell_type": "code",
      "source": [
        "download_file(dataset_url, dataset_file_path)"
      ],
      "metadata": {
        "id": "Xf-0GrtHnWPN"
      },
      "execution_count": 6,
      "outputs": []
    },
    {
      "cell_type": "markdown",
      "source": [
        "#load dataset"
      ],
      "metadata": {
        "id": "_QBNAEpmng4R"
      }
    },
    {
      "cell_type": "code",
      "source": [
        "df = pd.read_csv(dataset_file_path)"
      ],
      "metadata": {
        "id": "157G_Va0njKm"
      },
      "execution_count": 7,
      "outputs": []
    },
    {
      "cell_type": "code",
      "source": [
        "df.shape"
      ],
      "metadata": {
        "colab": {
          "base_uri": "https://localhost:8080/"
        },
        "id": "5Xk24mrCny4F",
        "outputId": "c57cbba2-5cc8-4644-9ea5-4fd7beb95b68"
      },
      "execution_count": 8,
      "outputs": [
        {
          "output_type": "execute_result",
          "data": {
            "text/plain": [
              "(13611, 17)"
            ]
          },
          "metadata": {},
          "execution_count": 8
        }
      ]
    },
    {
      "cell_type": "code",
      "source": [
        "df"
      ],
      "metadata": {
        "colab": {
          "base_uri": "https://localhost:8080/",
          "height": 0
        },
        "id": "VGByH5FLnz88",
        "outputId": "128d89c2-5bb4-4004-f0b9-b888b8a3ca2f"
      },
      "execution_count": 9,
      "outputs": [
        {
          "output_type": "execute_result",
          "data": {
            "text/plain": [
              "         Area  Perimeter  MajorAxisLength  MinorAxisLength  AspectRation  \\\n",
              "0       42711    769.073       289.085065       188.382767      1.534562   \n",
              "1      181985   1622.689       597.670516       390.655060      1.529919   \n",
              "2       38909    727.644       273.831540       181.243776      1.510847   \n",
              "3       41646    767.796       287.906339       185.623114      1.551026   \n",
              "4       32959    680.960       254.941431       165.848851      1.537191   \n",
              "...       ...        ...              ...              ...           ...   \n",
              "13606   32618    674.388       258.303277       161.371051      1.600679   \n",
              "13607   45678    773.561       269.258271       216.170438      1.245583   \n",
              "13608   25401    596.589       229.065638       141.542181      1.618356   \n",
              "13609   27883    607.370       217.189372       164.023226      1.324138   \n",
              "13610   30610    637.739       230.063765       170.124636      1.352325   \n",
              "\n",
              "       Eccentricity  ConvexArea  EquivDiameter    Extent  Solidity  roundness  \\\n",
              "0          0.758518       43187     233.198058  0.707464  0.988978   0.907433   \n",
              "1          0.756815      184037     481.363167  0.771816  0.988850   0.868510   \n",
              "2          0.749609       39304     222.576902  0.783950  0.989950   0.923468   \n",
              "3          0.764407       42225     230.272304  0.737816  0.986288   0.887752   \n",
              "4          0.759475       33424     204.852879  0.723245  0.986088   0.893183   \n",
              "...             ...         ...            ...       ...       ...        ...   \n",
              "13606      0.780837       32985     203.790401  0.707303  0.988874   0.901255   \n",
              "13607      0.596199       46084     241.161846  0.775373  0.991190   0.959241   \n",
              "13608      0.786248       25745     179.837587  0.715965  0.986638   0.896830   \n",
              "13609      0.655485       28169     188.419049  0.785990  0.989847   0.949823   \n",
              "13610      0.673192       30942     197.417989  0.778286  0.989270   0.945774   \n",
              "\n",
              "       Compactness  ShapeFactor1  ShapeFactor2  ShapeFactor3  ShapeFactor4  \\\n",
              "0         0.806676      6.768398      0.176792    361.153252    200.714657   \n",
              "1         0.805399      3.284175      0.085241    360.010387    199.474086   \n",
              "2         0.812824      7.037743      0.189496    366.679165    200.636376   \n",
              "3         0.799817      6.913181      0.174510    355.037266    199.432618   \n",
              "4         0.803529      7.735108      0.198908    358.340825    199.492841   \n",
              "...            ...           ...           ...           ...           ...   \n",
              "13606     0.788958      7.919041      0.189264    345.462251    200.266340   \n",
              "13607     0.895653      5.894704      0.233991    445.217348    200.838931   \n",
              "13608     0.785092      9.017977      0.211335    342.084994    200.498515   \n",
              "13609     0.867533      7.789311      0.272160    417.700947    200.309596   \n",
              "13610     0.858101      7.515968      0.251373    408.667390    200.149298   \n",
              "\n",
              "          Class  \n",
              "0          SIRA  \n",
              "1        BOMBAY  \n",
              "2      DERMASON  \n",
              "3          SIRA  \n",
              "4      DERMASON  \n",
              "...         ...  \n",
              "13606  DERMASON  \n",
              "13607     SEKER  \n",
              "13608  DERMASON  \n",
              "13609  DERMASON  \n",
              "13610  DERMASON  \n",
              "\n",
              "[13611 rows x 17 columns]"
            ],
            "text/html": [
              "\n",
              "  <div id=\"df-eca3a4fb-47bb-49e9-a1a0-4ed954cb75dd\">\n",
              "    <div class=\"colab-df-container\">\n",
              "      <div>\n",
              "<style scoped>\n",
              "    .dataframe tbody tr th:only-of-type {\n",
              "        vertical-align: middle;\n",
              "    }\n",
              "\n",
              "    .dataframe tbody tr th {\n",
              "        vertical-align: top;\n",
              "    }\n",
              "\n",
              "    .dataframe thead th {\n",
              "        text-align: right;\n",
              "    }\n",
              "</style>\n",
              "<table border=\"1\" class=\"dataframe\">\n",
              "  <thead>\n",
              "    <tr style=\"text-align: right;\">\n",
              "      <th></th>\n",
              "      <th>Area</th>\n",
              "      <th>Perimeter</th>\n",
              "      <th>MajorAxisLength</th>\n",
              "      <th>MinorAxisLength</th>\n",
              "      <th>AspectRation</th>\n",
              "      <th>Eccentricity</th>\n",
              "      <th>ConvexArea</th>\n",
              "      <th>EquivDiameter</th>\n",
              "      <th>Extent</th>\n",
              "      <th>Solidity</th>\n",
              "      <th>roundness</th>\n",
              "      <th>Compactness</th>\n",
              "      <th>ShapeFactor1</th>\n",
              "      <th>ShapeFactor2</th>\n",
              "      <th>ShapeFactor3</th>\n",
              "      <th>ShapeFactor4</th>\n",
              "      <th>Class</th>\n",
              "    </tr>\n",
              "  </thead>\n",
              "  <tbody>\n",
              "    <tr>\n",
              "      <th>0</th>\n",
              "      <td>42711</td>\n",
              "      <td>769.073</td>\n",
              "      <td>289.085065</td>\n",
              "      <td>188.382767</td>\n",
              "      <td>1.534562</td>\n",
              "      <td>0.758518</td>\n",
              "      <td>43187</td>\n",
              "      <td>233.198058</td>\n",
              "      <td>0.707464</td>\n",
              "      <td>0.988978</td>\n",
              "      <td>0.907433</td>\n",
              "      <td>0.806676</td>\n",
              "      <td>6.768398</td>\n",
              "      <td>0.176792</td>\n",
              "      <td>361.153252</td>\n",
              "      <td>200.714657</td>\n",
              "      <td>SIRA</td>\n",
              "    </tr>\n",
              "    <tr>\n",
              "      <th>1</th>\n",
              "      <td>181985</td>\n",
              "      <td>1622.689</td>\n",
              "      <td>597.670516</td>\n",
              "      <td>390.655060</td>\n",
              "      <td>1.529919</td>\n",
              "      <td>0.756815</td>\n",
              "      <td>184037</td>\n",
              "      <td>481.363167</td>\n",
              "      <td>0.771816</td>\n",
              "      <td>0.988850</td>\n",
              "      <td>0.868510</td>\n",
              "      <td>0.805399</td>\n",
              "      <td>3.284175</td>\n",
              "      <td>0.085241</td>\n",
              "      <td>360.010387</td>\n",
              "      <td>199.474086</td>\n",
              "      <td>BOMBAY</td>\n",
              "    </tr>\n",
              "    <tr>\n",
              "      <th>2</th>\n",
              "      <td>38909</td>\n",
              "      <td>727.644</td>\n",
              "      <td>273.831540</td>\n",
              "      <td>181.243776</td>\n",
              "      <td>1.510847</td>\n",
              "      <td>0.749609</td>\n",
              "      <td>39304</td>\n",
              "      <td>222.576902</td>\n",
              "      <td>0.783950</td>\n",
              "      <td>0.989950</td>\n",
              "      <td>0.923468</td>\n",
              "      <td>0.812824</td>\n",
              "      <td>7.037743</td>\n",
              "      <td>0.189496</td>\n",
              "      <td>366.679165</td>\n",
              "      <td>200.636376</td>\n",
              "      <td>DERMASON</td>\n",
              "    </tr>\n",
              "    <tr>\n",
              "      <th>3</th>\n",
              "      <td>41646</td>\n",
              "      <td>767.796</td>\n",
              "      <td>287.906339</td>\n",
              "      <td>185.623114</td>\n",
              "      <td>1.551026</td>\n",
              "      <td>0.764407</td>\n",
              "      <td>42225</td>\n",
              "      <td>230.272304</td>\n",
              "      <td>0.737816</td>\n",
              "      <td>0.986288</td>\n",
              "      <td>0.887752</td>\n",
              "      <td>0.799817</td>\n",
              "      <td>6.913181</td>\n",
              "      <td>0.174510</td>\n",
              "      <td>355.037266</td>\n",
              "      <td>199.432618</td>\n",
              "      <td>SIRA</td>\n",
              "    </tr>\n",
              "    <tr>\n",
              "      <th>4</th>\n",
              "      <td>32959</td>\n",
              "      <td>680.960</td>\n",
              "      <td>254.941431</td>\n",
              "      <td>165.848851</td>\n",
              "      <td>1.537191</td>\n",
              "      <td>0.759475</td>\n",
              "      <td>33424</td>\n",
              "      <td>204.852879</td>\n",
              "      <td>0.723245</td>\n",
              "      <td>0.986088</td>\n",
              "      <td>0.893183</td>\n",
              "      <td>0.803529</td>\n",
              "      <td>7.735108</td>\n",
              "      <td>0.198908</td>\n",
              "      <td>358.340825</td>\n",
              "      <td>199.492841</td>\n",
              "      <td>DERMASON</td>\n",
              "    </tr>\n",
              "    <tr>\n",
              "      <th>...</th>\n",
              "      <td>...</td>\n",
              "      <td>...</td>\n",
              "      <td>...</td>\n",
              "      <td>...</td>\n",
              "      <td>...</td>\n",
              "      <td>...</td>\n",
              "      <td>...</td>\n",
              "      <td>...</td>\n",
              "      <td>...</td>\n",
              "      <td>...</td>\n",
              "      <td>...</td>\n",
              "      <td>...</td>\n",
              "      <td>...</td>\n",
              "      <td>...</td>\n",
              "      <td>...</td>\n",
              "      <td>...</td>\n",
              "      <td>...</td>\n",
              "    </tr>\n",
              "    <tr>\n",
              "      <th>13606</th>\n",
              "      <td>32618</td>\n",
              "      <td>674.388</td>\n",
              "      <td>258.303277</td>\n",
              "      <td>161.371051</td>\n",
              "      <td>1.600679</td>\n",
              "      <td>0.780837</td>\n",
              "      <td>32985</td>\n",
              "      <td>203.790401</td>\n",
              "      <td>0.707303</td>\n",
              "      <td>0.988874</td>\n",
              "      <td>0.901255</td>\n",
              "      <td>0.788958</td>\n",
              "      <td>7.919041</td>\n",
              "      <td>0.189264</td>\n",
              "      <td>345.462251</td>\n",
              "      <td>200.266340</td>\n",
              "      <td>DERMASON</td>\n",
              "    </tr>\n",
              "    <tr>\n",
              "      <th>13607</th>\n",
              "      <td>45678</td>\n",
              "      <td>773.561</td>\n",
              "      <td>269.258271</td>\n",
              "      <td>216.170438</td>\n",
              "      <td>1.245583</td>\n",
              "      <td>0.596199</td>\n",
              "      <td>46084</td>\n",
              "      <td>241.161846</td>\n",
              "      <td>0.775373</td>\n",
              "      <td>0.991190</td>\n",
              "      <td>0.959241</td>\n",
              "      <td>0.895653</td>\n",
              "      <td>5.894704</td>\n",
              "      <td>0.233991</td>\n",
              "      <td>445.217348</td>\n",
              "      <td>200.838931</td>\n",
              "      <td>SEKER</td>\n",
              "    </tr>\n",
              "    <tr>\n",
              "      <th>13608</th>\n",
              "      <td>25401</td>\n",
              "      <td>596.589</td>\n",
              "      <td>229.065638</td>\n",
              "      <td>141.542181</td>\n",
              "      <td>1.618356</td>\n",
              "      <td>0.786248</td>\n",
              "      <td>25745</td>\n",
              "      <td>179.837587</td>\n",
              "      <td>0.715965</td>\n",
              "      <td>0.986638</td>\n",
              "      <td>0.896830</td>\n",
              "      <td>0.785092</td>\n",
              "      <td>9.017977</td>\n",
              "      <td>0.211335</td>\n",
              "      <td>342.084994</td>\n",
              "      <td>200.498515</td>\n",
              "      <td>DERMASON</td>\n",
              "    </tr>\n",
              "    <tr>\n",
              "      <th>13609</th>\n",
              "      <td>27883</td>\n",
              "      <td>607.370</td>\n",
              "      <td>217.189372</td>\n",
              "      <td>164.023226</td>\n",
              "      <td>1.324138</td>\n",
              "      <td>0.655485</td>\n",
              "      <td>28169</td>\n",
              "      <td>188.419049</td>\n",
              "      <td>0.785990</td>\n",
              "      <td>0.989847</td>\n",
              "      <td>0.949823</td>\n",
              "      <td>0.867533</td>\n",
              "      <td>7.789311</td>\n",
              "      <td>0.272160</td>\n",
              "      <td>417.700947</td>\n",
              "      <td>200.309596</td>\n",
              "      <td>DERMASON</td>\n",
              "    </tr>\n",
              "    <tr>\n",
              "      <th>13610</th>\n",
              "      <td>30610</td>\n",
              "      <td>637.739</td>\n",
              "      <td>230.063765</td>\n",
              "      <td>170.124636</td>\n",
              "      <td>1.352325</td>\n",
              "      <td>0.673192</td>\n",
              "      <td>30942</td>\n",
              "      <td>197.417989</td>\n",
              "      <td>0.778286</td>\n",
              "      <td>0.989270</td>\n",
              "      <td>0.945774</td>\n",
              "      <td>0.858101</td>\n",
              "      <td>7.515968</td>\n",
              "      <td>0.251373</td>\n",
              "      <td>408.667390</td>\n",
              "      <td>200.149298</td>\n",
              "      <td>DERMASON</td>\n",
              "    </tr>\n",
              "  </tbody>\n",
              "</table>\n",
              "<p>13611 rows × 17 columns</p>\n",
              "</div>\n",
              "      <button class=\"colab-df-convert\" onclick=\"convertToInteractive('df-eca3a4fb-47bb-49e9-a1a0-4ed954cb75dd')\"\n",
              "              title=\"Convert this dataframe to an interactive table.\"\n",
              "              style=\"display:none;\">\n",
              "        \n",
              "  <svg xmlns=\"http://www.w3.org/2000/svg\" height=\"24px\"viewBox=\"0 0 24 24\"\n",
              "       width=\"24px\">\n",
              "    <path d=\"M0 0h24v24H0V0z\" fill=\"none\"/>\n",
              "    <path d=\"M18.56 5.44l.94 2.06.94-2.06 2.06-.94-2.06-.94-.94-2.06-.94 2.06-2.06.94zm-11 1L8.5 8.5l.94-2.06 2.06-.94-2.06-.94L8.5 2.5l-.94 2.06-2.06.94zm10 10l.94 2.06.94-2.06 2.06-.94-2.06-.94-.94-2.06-.94 2.06-2.06.94z\"/><path d=\"M17.41 7.96l-1.37-1.37c-.4-.4-.92-.59-1.43-.59-.52 0-1.04.2-1.43.59L10.3 9.45l-7.72 7.72c-.78.78-.78 2.05 0 2.83L4 21.41c.39.39.9.59 1.41.59.51 0 1.02-.2 1.41-.59l7.78-7.78 2.81-2.81c.8-.78.8-2.07 0-2.86zM5.41 20L4 18.59l7.72-7.72 1.47 1.35L5.41 20z\"/>\n",
              "  </svg>\n",
              "      </button>\n",
              "      \n",
              "  <style>\n",
              "    .colab-df-container {\n",
              "      display:flex;\n",
              "      flex-wrap:wrap;\n",
              "      gap: 12px;\n",
              "    }\n",
              "\n",
              "    .colab-df-convert {\n",
              "      background-color: #E8F0FE;\n",
              "      border: none;\n",
              "      border-radius: 50%;\n",
              "      cursor: pointer;\n",
              "      display: none;\n",
              "      fill: #1967D2;\n",
              "      height: 32px;\n",
              "      padding: 0 0 0 0;\n",
              "      width: 32px;\n",
              "    }\n",
              "\n",
              "    .colab-df-convert:hover {\n",
              "      background-color: #E2EBFA;\n",
              "      box-shadow: 0px 1px 2px rgba(60, 64, 67, 0.3), 0px 1px 3px 1px rgba(60, 64, 67, 0.15);\n",
              "      fill: #174EA6;\n",
              "    }\n",
              "\n",
              "    [theme=dark] .colab-df-convert {\n",
              "      background-color: #3B4455;\n",
              "      fill: #D2E3FC;\n",
              "    }\n",
              "\n",
              "    [theme=dark] .colab-df-convert:hover {\n",
              "      background-color: #434B5C;\n",
              "      box-shadow: 0px 1px 3px 1px rgba(0, 0, 0, 0.15);\n",
              "      filter: drop-shadow(0px 1px 2px rgba(0, 0, 0, 0.3));\n",
              "      fill: #FFFFFF;\n",
              "    }\n",
              "  </style>\n",
              "\n",
              "      <script>\n",
              "        const buttonEl =\n",
              "          document.querySelector('#df-eca3a4fb-47bb-49e9-a1a0-4ed954cb75dd button.colab-df-convert');\n",
              "        buttonEl.style.display =\n",
              "          google.colab.kernel.accessAllowed ? 'block' : 'none';\n",
              "\n",
              "        async function convertToInteractive(key) {\n",
              "          const element = document.querySelector('#df-eca3a4fb-47bb-49e9-a1a0-4ed954cb75dd');\n",
              "          const dataTable =\n",
              "            await google.colab.kernel.invokeFunction('convertToInteractive',\n",
              "                                                     [key], {});\n",
              "          if (!dataTable) return;\n",
              "\n",
              "          const docLinkHtml = 'Like what you see? Visit the ' +\n",
              "            '<a target=\"_blank\" href=https://colab.research.google.com/notebooks/data_table.ipynb>data table notebook</a>'\n",
              "            + ' to learn more about interactive tables.';\n",
              "          element.innerHTML = '';\n",
              "          dataTable['output_type'] = 'display_data';\n",
              "          await google.colab.output.renderOutput(dataTable, element);\n",
              "          const docLink = document.createElement('div');\n",
              "          docLink.innerHTML = docLinkHtml;\n",
              "          element.appendChild(docLink);\n",
              "        }\n",
              "      </script>\n",
              "    </div>\n",
              "  </div>\n",
              "  "
            ]
          },
          "metadata": {},
          "execution_count": 9
        }
      ]
    },
    {
      "cell_type": "markdown",
      "source": [
        "#dataset analyse"
      ],
      "metadata": {
        "id": "3LTrMCbtn5ai"
      }
    },
    {
      "cell_type": "markdown",
      "source": [
        "##basic"
      ],
      "metadata": {
        "id": "tYFMoS3QTQRr"
      }
    },
    {
      "cell_type": "markdown",
      "source": [
        "تنها ستون Perimeter دارای میسینگ ولیو می‌باشد."
      ],
      "metadata": {
        "id": "fUj16GKMuCuu"
      }
    },
    {
      "cell_type": "code",
      "source": [
        "df.info()"
      ],
      "metadata": {
        "colab": {
          "base_uri": "https://localhost:8080/"
        },
        "id": "3ziJRo9pn9nJ",
        "outputId": "68308e4e-e24e-441c-b064-83269bd08b21"
      },
      "execution_count": 10,
      "outputs": [
        {
          "output_type": "stream",
          "name": "stdout",
          "text": [
            "<class 'pandas.core.frame.DataFrame'>\n",
            "RangeIndex: 13611 entries, 0 to 13610\n",
            "Data columns (total 17 columns):\n",
            " #   Column           Non-Null Count  Dtype  \n",
            "---  ------           --------------  -----  \n",
            " 0   Area             13611 non-null  int64  \n",
            " 1   Perimeter        13598 non-null  float64\n",
            " 2   MajorAxisLength  13611 non-null  float64\n",
            " 3   MinorAxisLength  13611 non-null  float64\n",
            " 4   AspectRation     13611 non-null  float64\n",
            " 5   Eccentricity     13611 non-null  float64\n",
            " 6   ConvexArea       13611 non-null  int64  \n",
            " 7   EquivDiameter    13611 non-null  float64\n",
            " 8   Extent           13611 non-null  float64\n",
            " 9   Solidity         13611 non-null  float64\n",
            " 10  roundness        13611 non-null  float64\n",
            " 11  Compactness      13611 non-null  float64\n",
            " 12  ShapeFactor1     13611 non-null  float64\n",
            " 13  ShapeFactor2     13611 non-null  float64\n",
            " 14  ShapeFactor3     13611 non-null  float64\n",
            " 15  ShapeFactor4     13611 non-null  float64\n",
            " 16  Class            13611 non-null  object \n",
            "dtypes: float64(14), int64(2), object(1)\n",
            "memory usage: 1.8+ MB\n"
          ]
        }
      ]
    },
    {
      "cell_type": "code",
      "source": [
        "for column in df.columns:\n",
        "  print(column, \": \",df[column].unique(), len(df[column].unique()))"
      ],
      "metadata": {
        "colab": {
          "base_uri": "https://localhost:8080/"
        },
        "id": "srqRdCNI8yl3",
        "outputId": "cc21ce80-e02b-4f0d-dd69-ded8ffc10096"
      },
      "execution_count": 11,
      "outputs": [
        {
          "output_type": "stream",
          "name": "stdout",
          "text": [
            "Area :  [ 42711 181985  38909 ...  25401  27883  30610] 12011\n",
            "Perimeter :  [ 769.073 1622.689  727.644 ...  596.589  607.37   637.739] 13339\n",
            "MajorAxisLength :  [289.0850651 597.6705159 273.8315398 ... 229.0656383 217.1893724\n",
            " 230.0637654] 13543\n",
            "MinorAxisLength :  [188.3827673 390.6550596 181.2437758 ... 141.542181  164.0232263\n",
            " 170.1246364] 13543\n",
            "AspectRation :  [1.53456215 1.52991879 1.51084658 ... 1.618356   1.32413791 1.3523248 ] 13543\n",
            "Eccentricity :  [0.75851835 0.75681472 0.74960931 ... 0.78624804 0.65548483 0.67319245] 13543\n",
            "ConvexArea :  [ 43187 184037  39304 ...  25745  28169  30942] 12066\n",
            "EquivDiameter :  [233.1980579 481.363167  222.5769023 ... 179.8375869 188.4190495\n",
            " 197.4179892] 12011\n",
            "Extent :  [0.70746372 0.77181621 0.78394987 ... 0.71596482 0.78599013 0.7782863 ] 13535\n",
            "Solidity :  [0.98897817 0.98885007 0.98995013 ... 0.98663818 0.98984699 0.98927025] 13522\n",
            "roundness :  [0.9074328  0.8685101  0.92346838 ... 0.89683014 0.94982302 0.94577372] 13540\n",
            "Compactness :  [0.80667626 0.80539889 0.8128242  ... 0.78509194 0.86753347 0.85810118] 13543\n",
            "ShapeFactor1 :  [6.768398 3.284175 7.037743 ... 9.017977 7.789311 7.515968] 13521\n",
            "ShapeFactor2 :  [0.1767921 0.0852413 0.1894958 ... 0.2113348 0.2721597 0.251373 ] 13506\n",
            "ShapeFactor3 :  [361.15325245 360.01038702 366.6791649  ... 342.08499369 417.70094705\n",
            " 408.6673902 ] 13543\n",
            "ShapeFactor4 :  [200.71465718 199.47408599 200.63637633 ... 200.49851525 200.30959575\n",
            " 200.14929845] 13532\n",
            "Class :  ['SIRA' 'BOMBAY' 'DERMASON' 'HOROZ' 'BARBUNYA' 'CALI' 'SEKER'] 7\n"
          ]
        }
      ]
    },
    {
      "cell_type": "markdown",
      "source": [
        "طبق نتایج زیر مقادیر منفی برای سه ستون زیر غیر قابل قبول می‌باشد.<br/>\n",
        "Area, Perimeter, MajorAxisLength<br/>\n",
        "برخی از ستون‌ها دارای مقادیر اوت لایر هستند"
      ],
      "metadata": {
        "id": "YP-LOhCwkeg8"
      }
    },
    {
      "cell_type": "code",
      "source": [
        "df.describe()"
      ],
      "metadata": {
        "colab": {
          "base_uri": "https://localhost:8080/",
          "height": 0
        },
        "id": "Oj2DrcZTuJVH",
        "outputId": "a0deb723-f902-43f3-d625-dfb1c24feb50"
      },
      "execution_count": 12,
      "outputs": [
        {
          "output_type": "execute_result",
          "data": {
            "text/plain": [
              "                Area     Perimeter  MajorAxisLength  MinorAxisLength  \\\n",
              "count   13611.000000  1.359800e+04     1.361100e+04     13611.000000   \n",
              "mean    53043.806260  6.574124e+01     4.741549e+02       202.270714   \n",
              "std     29332.196229  9.207540e+04     1.797124e+04        44.970091   \n",
              "min    -30477.000000 -1.073607e+07    -2.252024e+02       122.512653   \n",
              "25%     36328.000000  7.035628e+02     2.533134e+02       175.848170   \n",
              "50%     44652.000000  7.949895e+02     2.968993e+02       192.431733   \n",
              "75%     61332.000000  9.772175e+02     3.765043e+02       217.031741   \n",
              "max    254616.000000  1.985370e+03     2.096932e+06       460.198497   \n",
              "\n",
              "       AspectRation  Eccentricity     ConvexArea  EquivDiameter        Extent  \\\n",
              "count  13611.000000  13611.000000   13611.000000   13611.000000  13611.000000   \n",
              "mean       1.583242      0.750895   53768.200206     253.064220      0.749733   \n",
              "std        0.246678      0.092002   29774.915817      59.177120      0.049086   \n",
              "min        1.024868      0.218951   20684.000000     161.243764      0.555315   \n",
              "25%        1.432307      0.715928   36714.500000     215.068003      0.718634   \n",
              "50%        1.551124      0.764441   45178.000000     238.438026      0.759859   \n",
              "75%        1.707109      0.810466   62294.000000     279.446467      0.786851   \n",
              "max        2.430306      0.911423  263261.000000     569.374358      0.866195   \n",
              "\n",
              "           Solidity     roundness   Compactness  ShapeFactor1  ShapeFactor2  \\\n",
              "count  13611.000000  13611.000000  13611.000000  13611.000000  13611.000000   \n",
              "mean       0.987143      0.873282      0.799864      6.563609      0.171595   \n",
              "std        0.004660      0.059520      0.061713      1.127998      0.059587   \n",
              "min        0.919246      0.489618      0.640577      2.778013      0.056417   \n",
              "25%        0.985670      0.832096      0.762469      5.899917      0.115352   \n",
              "50%        0.988283      0.883157      0.801277      6.645174      0.169353   \n",
              "75%        0.990013      0.916869      0.834270      7.271420      0.217027   \n",
              "max        0.994677      0.990685      0.987303     10.451169      0.366497   \n",
              "\n",
              "       ShapeFactor3  ShapeFactor4  \n",
              "count  13611.000000  13611.000000  \n",
              "mean     357.192551    200.007726  \n",
              "std       54.942864      0.877658  \n",
              "min      227.737914    190.485168  \n",
              "25%      322.654018    199.734282  \n",
              "50%      356.334600    200.273574  \n",
              "75%      386.283488    200.574391  \n",
              "max      540.995770    200.946239  "
            ],
            "text/html": [
              "\n",
              "  <div id=\"df-91154df8-ab8d-4fae-a3dd-8401b8306a57\">\n",
              "    <div class=\"colab-df-container\">\n",
              "      <div>\n",
              "<style scoped>\n",
              "    .dataframe tbody tr th:only-of-type {\n",
              "        vertical-align: middle;\n",
              "    }\n",
              "\n",
              "    .dataframe tbody tr th {\n",
              "        vertical-align: top;\n",
              "    }\n",
              "\n",
              "    .dataframe thead th {\n",
              "        text-align: right;\n",
              "    }\n",
              "</style>\n",
              "<table border=\"1\" class=\"dataframe\">\n",
              "  <thead>\n",
              "    <tr style=\"text-align: right;\">\n",
              "      <th></th>\n",
              "      <th>Area</th>\n",
              "      <th>Perimeter</th>\n",
              "      <th>MajorAxisLength</th>\n",
              "      <th>MinorAxisLength</th>\n",
              "      <th>AspectRation</th>\n",
              "      <th>Eccentricity</th>\n",
              "      <th>ConvexArea</th>\n",
              "      <th>EquivDiameter</th>\n",
              "      <th>Extent</th>\n",
              "      <th>Solidity</th>\n",
              "      <th>roundness</th>\n",
              "      <th>Compactness</th>\n",
              "      <th>ShapeFactor1</th>\n",
              "      <th>ShapeFactor2</th>\n",
              "      <th>ShapeFactor3</th>\n",
              "      <th>ShapeFactor4</th>\n",
              "    </tr>\n",
              "  </thead>\n",
              "  <tbody>\n",
              "    <tr>\n",
              "      <th>count</th>\n",
              "      <td>13611.000000</td>\n",
              "      <td>1.359800e+04</td>\n",
              "      <td>1.361100e+04</td>\n",
              "      <td>13611.000000</td>\n",
              "      <td>13611.000000</td>\n",
              "      <td>13611.000000</td>\n",
              "      <td>13611.000000</td>\n",
              "      <td>13611.000000</td>\n",
              "      <td>13611.000000</td>\n",
              "      <td>13611.000000</td>\n",
              "      <td>13611.000000</td>\n",
              "      <td>13611.000000</td>\n",
              "      <td>13611.000000</td>\n",
              "      <td>13611.000000</td>\n",
              "      <td>13611.000000</td>\n",
              "      <td>13611.000000</td>\n",
              "    </tr>\n",
              "    <tr>\n",
              "      <th>mean</th>\n",
              "      <td>53043.806260</td>\n",
              "      <td>6.574124e+01</td>\n",
              "      <td>4.741549e+02</td>\n",
              "      <td>202.270714</td>\n",
              "      <td>1.583242</td>\n",
              "      <td>0.750895</td>\n",
              "      <td>53768.200206</td>\n",
              "      <td>253.064220</td>\n",
              "      <td>0.749733</td>\n",
              "      <td>0.987143</td>\n",
              "      <td>0.873282</td>\n",
              "      <td>0.799864</td>\n",
              "      <td>6.563609</td>\n",
              "      <td>0.171595</td>\n",
              "      <td>357.192551</td>\n",
              "      <td>200.007726</td>\n",
              "    </tr>\n",
              "    <tr>\n",
              "      <th>std</th>\n",
              "      <td>29332.196229</td>\n",
              "      <td>9.207540e+04</td>\n",
              "      <td>1.797124e+04</td>\n",
              "      <td>44.970091</td>\n",
              "      <td>0.246678</td>\n",
              "      <td>0.092002</td>\n",
              "      <td>29774.915817</td>\n",
              "      <td>59.177120</td>\n",
              "      <td>0.049086</td>\n",
              "      <td>0.004660</td>\n",
              "      <td>0.059520</td>\n",
              "      <td>0.061713</td>\n",
              "      <td>1.127998</td>\n",
              "      <td>0.059587</td>\n",
              "      <td>54.942864</td>\n",
              "      <td>0.877658</td>\n",
              "    </tr>\n",
              "    <tr>\n",
              "      <th>min</th>\n",
              "      <td>-30477.000000</td>\n",
              "      <td>-1.073607e+07</td>\n",
              "      <td>-2.252024e+02</td>\n",
              "      <td>122.512653</td>\n",
              "      <td>1.024868</td>\n",
              "      <td>0.218951</td>\n",
              "      <td>20684.000000</td>\n",
              "      <td>161.243764</td>\n",
              "      <td>0.555315</td>\n",
              "      <td>0.919246</td>\n",
              "      <td>0.489618</td>\n",
              "      <td>0.640577</td>\n",
              "      <td>2.778013</td>\n",
              "      <td>0.056417</td>\n",
              "      <td>227.737914</td>\n",
              "      <td>190.485168</td>\n",
              "    </tr>\n",
              "    <tr>\n",
              "      <th>25%</th>\n",
              "      <td>36328.000000</td>\n",
              "      <td>7.035628e+02</td>\n",
              "      <td>2.533134e+02</td>\n",
              "      <td>175.848170</td>\n",
              "      <td>1.432307</td>\n",
              "      <td>0.715928</td>\n",
              "      <td>36714.500000</td>\n",
              "      <td>215.068003</td>\n",
              "      <td>0.718634</td>\n",
              "      <td>0.985670</td>\n",
              "      <td>0.832096</td>\n",
              "      <td>0.762469</td>\n",
              "      <td>5.899917</td>\n",
              "      <td>0.115352</td>\n",
              "      <td>322.654018</td>\n",
              "      <td>199.734282</td>\n",
              "    </tr>\n",
              "    <tr>\n",
              "      <th>50%</th>\n",
              "      <td>44652.000000</td>\n",
              "      <td>7.949895e+02</td>\n",
              "      <td>2.968993e+02</td>\n",
              "      <td>192.431733</td>\n",
              "      <td>1.551124</td>\n",
              "      <td>0.764441</td>\n",
              "      <td>45178.000000</td>\n",
              "      <td>238.438026</td>\n",
              "      <td>0.759859</td>\n",
              "      <td>0.988283</td>\n",
              "      <td>0.883157</td>\n",
              "      <td>0.801277</td>\n",
              "      <td>6.645174</td>\n",
              "      <td>0.169353</td>\n",
              "      <td>356.334600</td>\n",
              "      <td>200.273574</td>\n",
              "    </tr>\n",
              "    <tr>\n",
              "      <th>75%</th>\n",
              "      <td>61332.000000</td>\n",
              "      <td>9.772175e+02</td>\n",
              "      <td>3.765043e+02</td>\n",
              "      <td>217.031741</td>\n",
              "      <td>1.707109</td>\n",
              "      <td>0.810466</td>\n",
              "      <td>62294.000000</td>\n",
              "      <td>279.446467</td>\n",
              "      <td>0.786851</td>\n",
              "      <td>0.990013</td>\n",
              "      <td>0.916869</td>\n",
              "      <td>0.834270</td>\n",
              "      <td>7.271420</td>\n",
              "      <td>0.217027</td>\n",
              "      <td>386.283488</td>\n",
              "      <td>200.574391</td>\n",
              "    </tr>\n",
              "    <tr>\n",
              "      <th>max</th>\n",
              "      <td>254616.000000</td>\n",
              "      <td>1.985370e+03</td>\n",
              "      <td>2.096932e+06</td>\n",
              "      <td>460.198497</td>\n",
              "      <td>2.430306</td>\n",
              "      <td>0.911423</td>\n",
              "      <td>263261.000000</td>\n",
              "      <td>569.374358</td>\n",
              "      <td>0.866195</td>\n",
              "      <td>0.994677</td>\n",
              "      <td>0.990685</td>\n",
              "      <td>0.987303</td>\n",
              "      <td>10.451169</td>\n",
              "      <td>0.366497</td>\n",
              "      <td>540.995770</td>\n",
              "      <td>200.946239</td>\n",
              "    </tr>\n",
              "  </tbody>\n",
              "</table>\n",
              "</div>\n",
              "      <button class=\"colab-df-convert\" onclick=\"convertToInteractive('df-91154df8-ab8d-4fae-a3dd-8401b8306a57')\"\n",
              "              title=\"Convert this dataframe to an interactive table.\"\n",
              "              style=\"display:none;\">\n",
              "        \n",
              "  <svg xmlns=\"http://www.w3.org/2000/svg\" height=\"24px\"viewBox=\"0 0 24 24\"\n",
              "       width=\"24px\">\n",
              "    <path d=\"M0 0h24v24H0V0z\" fill=\"none\"/>\n",
              "    <path d=\"M18.56 5.44l.94 2.06.94-2.06 2.06-.94-2.06-.94-.94-2.06-.94 2.06-2.06.94zm-11 1L8.5 8.5l.94-2.06 2.06-.94-2.06-.94L8.5 2.5l-.94 2.06-2.06.94zm10 10l.94 2.06.94-2.06 2.06-.94-2.06-.94-.94-2.06-.94 2.06-2.06.94z\"/><path d=\"M17.41 7.96l-1.37-1.37c-.4-.4-.92-.59-1.43-.59-.52 0-1.04.2-1.43.59L10.3 9.45l-7.72 7.72c-.78.78-.78 2.05 0 2.83L4 21.41c.39.39.9.59 1.41.59.51 0 1.02-.2 1.41-.59l7.78-7.78 2.81-2.81c.8-.78.8-2.07 0-2.86zM5.41 20L4 18.59l7.72-7.72 1.47 1.35L5.41 20z\"/>\n",
              "  </svg>\n",
              "      </button>\n",
              "      \n",
              "  <style>\n",
              "    .colab-df-container {\n",
              "      display:flex;\n",
              "      flex-wrap:wrap;\n",
              "      gap: 12px;\n",
              "    }\n",
              "\n",
              "    .colab-df-convert {\n",
              "      background-color: #E8F0FE;\n",
              "      border: none;\n",
              "      border-radius: 50%;\n",
              "      cursor: pointer;\n",
              "      display: none;\n",
              "      fill: #1967D2;\n",
              "      height: 32px;\n",
              "      padding: 0 0 0 0;\n",
              "      width: 32px;\n",
              "    }\n",
              "\n",
              "    .colab-df-convert:hover {\n",
              "      background-color: #E2EBFA;\n",
              "      box-shadow: 0px 1px 2px rgba(60, 64, 67, 0.3), 0px 1px 3px 1px rgba(60, 64, 67, 0.15);\n",
              "      fill: #174EA6;\n",
              "    }\n",
              "\n",
              "    [theme=dark] .colab-df-convert {\n",
              "      background-color: #3B4455;\n",
              "      fill: #D2E3FC;\n",
              "    }\n",
              "\n",
              "    [theme=dark] .colab-df-convert:hover {\n",
              "      background-color: #434B5C;\n",
              "      box-shadow: 0px 1px 3px 1px rgba(0, 0, 0, 0.15);\n",
              "      filter: drop-shadow(0px 1px 2px rgba(0, 0, 0, 0.3));\n",
              "      fill: #FFFFFF;\n",
              "    }\n",
              "  </style>\n",
              "\n",
              "      <script>\n",
              "        const buttonEl =\n",
              "          document.querySelector('#df-91154df8-ab8d-4fae-a3dd-8401b8306a57 button.colab-df-convert');\n",
              "        buttonEl.style.display =\n",
              "          google.colab.kernel.accessAllowed ? 'block' : 'none';\n",
              "\n",
              "        async function convertToInteractive(key) {\n",
              "          const element = document.querySelector('#df-91154df8-ab8d-4fae-a3dd-8401b8306a57');\n",
              "          const dataTable =\n",
              "            await google.colab.kernel.invokeFunction('convertToInteractive',\n",
              "                                                     [key], {});\n",
              "          if (!dataTable) return;\n",
              "\n",
              "          const docLinkHtml = 'Like what you see? Visit the ' +\n",
              "            '<a target=\"_blank\" href=https://colab.research.google.com/notebooks/data_table.ipynb>data table notebook</a>'\n",
              "            + ' to learn more about interactive tables.';\n",
              "          element.innerHTML = '';\n",
              "          dataTable['output_type'] = 'display_data';\n",
              "          await google.colab.output.renderOutput(dataTable, element);\n",
              "          const docLink = document.createElement('div');\n",
              "          docLink.innerHTML = docLinkHtml;\n",
              "          element.appendChild(docLink);\n",
              "        }\n",
              "      </script>\n",
              "    </div>\n",
              "  </div>\n",
              "  "
            ]
          },
          "metadata": {},
          "execution_count": 12
        }
      ]
    },
    {
      "cell_type": "code",
      "source": [
        "for column in df.select_dtypes(exclude=['object']):\n",
        "    plt.figure()\n",
        "    # plt.xlabel(column)\n",
        "    df.boxplot([column])"
      ],
      "metadata": {
        "colab": {
          "base_uri": "https://localhost:8080/",
          "height": 0
        },
        "id": "hWP5hZV5ITS3",
        "outputId": "33777298-58a5-478f-dac1-1dc8c9b3fd96"
      },
      "execution_count": 13,
      "outputs": [
        {
          "output_type": "display_data",
          "data": {
            "text/plain": [
              "<Figure size 432x288 with 1 Axes>"
            ],
            "image/png": "[encoded data removed]"
          },
          "metadata": {
            "needs_background": "light"
          }
        },
        {
          "output_type": "display_data",
          "data": {
            "text/plain": [
              "<Figure size 432x288 with 1 Axes>"
            ],
            "image/png": "[encoded data removed]"
          },
          "metadata": {
            "needs_background": "light"
          }
        },
        {
          "output_type": "display_data",
          "data": {
            "text/plain": [
              "<Figure size 432x288 with 1 Axes>"
            ],
            "image/png": "[encoded data removed]"
          },
          "metadata": {
            "needs_background": "light"
          }
        },
        {
          "output_type": "display_data",
          "data": {
            "text/plain": [
              "<Figure size 432x288 with 1 Axes>"
            ],
            "image/png": "[encoded data removed]"
          },
          "metadata": {
            "needs_background": "light"
          }
        },
        {
          "output_type": "display_data",
          "data": {
            "text/plain": [
              "<Figure size 432x288 with 1 Axes>"
            ],
            "image/png": "[encoded data removed]"
          },
          "metadata": {
            "needs_background": "light"
          }
        },
        {
          "output_type": "display_data",
          "data": {
            "text/plain": [
              "<Figure size 432x288 with 1 Axes>"
            ],
            "image/png": "[encoded data removed]"
          },
          "metadata": {
            "needs_background": "light"
          }
        },
        {
          "output_type": "display_data",
          "data": {
            "text/plain": [
              "<Figure size 432x288 with 1 Axes>"
            ],
            "image/png": "[encoded data removed]"
          },
          "metadata": {
            "needs_background": "light"
          }
        },
        {
          "output_type": "display_data",
          "data": {
            "text/plain": [
              "<Figure size 432x288 with 1 Axes>"
            ],
            "image/png": "[encoded data removed]"
          },
          "metadata": {
            "needs_background": "light"
          }
        },
        {
          "output_type": "display_data",
          "data": {
            "text/plain": [
              "<Figure size 432x288 with 1 Axes>"
            ],
            "image/png": "[encoded data removed]"
          },
          "metadata": {
            "needs_background": "light"
          }
        },
        {
          "output_type": "display_data",
          "data": {
            "text/plain": [
              "<Figure size 432x288 with 1 Axes>"
            ],
            "image/png": "[encoded data removed]"
          },
          "metadata": {
            "needs_background": "light"
          }
        },
        {
          "output_type": "display_data",
          "data": {
            "text/plain": [
              "<Figure size 432x288 with 1 Axes>"
            ],
            "image/png": "[encoded data removed]"
          },
          "metadata": {
            "needs_background": "light"
          }
        },
        {
          "output_type": "display_data",
          "data": {
            "text/plain": [
              "<Figure size 432x288 with 1 Axes>"
            ],
            "image/png": "[encoded data removed]"
          },
          "metadata": {
            "needs_background": "light"
          }
        },
        {
          "output_type": "display_data",
          "data": {
            "text/plain": [
              "<Figure size 432x288 with 1 Axes>"
            ],
            "image/png": "[encoded data removed]"
          },
          "metadata": {
            "needs_background": "light"
          }
        },
        {
          "output_type": "display_data",
          "data": {
            "text/plain": [
              "<Figure size 432x288 with 1 Axes>"
            ],
            "image/png": "[encoded data removed]"
          },
          "metadata": {
            "needs_background": "light"
          }
        },
        {
          "output_type": "display_data",
          "data": {
            "text/plain": [
              "<Figure size 432x288 with 1 Axes>"
            ],
            "image/png": "[encoded data removed]"
          },
          "metadata": {
            "needs_background": "light"
          }
        },
        {
          "output_type": "display_data",
          "data": {
            "text/plain": [
              "<Figure size 432x288 with 1 Axes>"
            ],
            "image/png": "[encoded data removed]"
          },
          "metadata": {
            "needs_background": "light"
          }
        }
      ]
    },
    {
      "cell_type": "markdown",
      "source": [
        "طبق نتایج زیر رابطه‌های زیر باید بررسی شود:\n",
        "\n",
        "\n",
        "*   Area and MinorAxisLength\n",
        "*   Area and ConvexArea\n",
        "*   Area and EquivDiameter\n",
        "*   MinorAxisLength and ConvexArea\n",
        "*   MinorAxisLength and EquivDiameter\n",
        "*   MinorAxisLength and ShapeFactor1\n",
        "*   AspectRation and Eccentricity\n",
        "*   AspectRation and Compactness\n",
        "*   AspectRation and ShapeFactor3\n",
        "*   Eccentricity and Compactness\n",
        "*   Eccentricity and ShapeFactor3\n",
        "*   Eccentricity and ShapeFactor2\n",
        "*   ConvexArea and EquivDiameter\n",
        "*   EquivDiameter and ShapeFactor1\n",
        "*   Compactness and ShapeFactor3\n",
        "*   ShapeFactor2 and ShapeFactor3\n",
        "\n"
      ],
      "metadata": {
        "id": "kfgW3KIzJXWo"
      }
    },
    {
      "cell_type": "code",
      "source": [
        "df['ClassId'] = df.Class.astype('category').cat.codes"
      ],
      "metadata": {
        "id": "rVC8iFaDNe0x"
      },
      "execution_count": 14,
      "outputs": []
    },
    {
      "cell_type": "code",
      "source": [
        "sns.heatmap(df.corr(), annot=True, linewidths=.5, fmt= '.1f')"
      ],
      "metadata": {
        "colab": {
          "base_uri": "https://localhost:8080/",
          "height": 0
        },
        "id": "742iG4XCt80M",
        "outputId": "9a482487-8098-4893-a1a4-febf6c036174"
      },
      "execution_count": 15,
      "outputs": [
        {
          "output_type": "execute_result",
          "data": {
            "text/plain": [
              "<matplotlib.axes._subplots.AxesSubplot at 0x7f30bfbdfd50>"
            ]
          },
          "metadata": {},
          "execution_count": 15
        },
        {
          "output_type": "display_data",
          "data": {
            "text/plain": [
              "<Figure size 432x288 with 2 Axes>"
            ],
            "image/png": "[encoded data removed]"
          },
          "metadata": {
            "needs_background": "light"
          }
        }
      ]
    },
    {
      "cell_type": "markdown",
      "source": [
        "##Relations between Area, MinorAxisLength, EquivDiameter, ConvexArea, and ShapeFactor1"
      ],
      "metadata": {
        "id": "xUd93UAqQWen"
      }
    },
    {
      "cell_type": "markdown",
      "source": [
        " می‌توان ستون اریا حذف شود زیر به ازای هر مقدار در ستون دیگر یک مقدار یونیک در ستون اریا موجود می‌باشد"
      ],
      "metadata": {
        "id": "gtQYqbeWbi4q"
      }
    },
    {
      "cell_type": "code",
      "source": [
        "df.plot.scatter('Area', 'MinorAxisLength')"
      ],
      "metadata": {
        "colab": {
          "base_uri": "https://localhost:8080/",
          "height": 0
        },
        "id": "C2H2FN7ON5Td",
        "outputId": "03a46394-6fef-437c-8dac-52e74fa7ac9a"
      },
      "execution_count": 16,
      "outputs": [
        {
          "output_type": "execute_result",
          "data": {
            "text/plain": [
              "<matplotlib.axes._subplots.AxesSubplot at 0x7f30bfcdb750>"
            ]
          },
          "metadata": {},
          "execution_count": 16
        },
        {
          "output_type": "display_data",
          "data": {
            "text/plain": [
              "<Figure size 432x288 with 1 Axes>"
            ],
            "image/png": "[encoded data removed]"
          },
          "metadata": {
            "needs_background": "light"
          }
        }
      ]
    },
    {
      "cell_type": "code",
      "source": [
        "df.groupby('MinorAxisLength').Area.nunique().max()==1"
      ],
      "metadata": {
        "colab": {
          "base_uri": "https://localhost:8080/"
        },
        "id": "aWTBsPF6bVGz",
        "outputId": "2d26369d-d7bc-444d-e486-e38912c4ac29"
      },
      "execution_count": 17,
      "outputs": [
        {
          "output_type": "execute_result",
          "data": {
            "text/plain": [
              "True"
            ]
          },
          "metadata": {},
          "execution_count": 17
        }
      ]
    },
    {
      "cell_type": "code",
      "source": [
        "df.groupby('Area').MinorAxisLength.nunique().max()==1"
      ],
      "metadata": {
        "colab": {
          "base_uri": "https://localhost:8080/"
        },
        "id": "tKzWnV59befv",
        "outputId": "94d71766-c3a3-4c2f-f9c2-794b1de7a995"
      },
      "execution_count": 18,
      "outputs": [
        {
          "output_type": "execute_result",
          "data": {
            "text/plain": [
              "False"
            ]
          },
          "metadata": {},
          "execution_count": 18
        }
      ]
    },
    {
      "cell_type": "markdown",
      "source": [
        "رابطه‌ی وارون پذیر. می‌توان هر یک از ستون‌های زیر را حذف نمود زیرا نمایانگر یکدیگر می‌باشند"
      ],
      "metadata": {
        "id": "NZx8qKN6YZKr"
      }
    },
    {
      "cell_type": "code",
      "source": [
        "df.plot.scatter('Area', 'EquivDiameter')"
      ],
      "metadata": {
        "colab": {
          "base_uri": "https://localhost:8080/",
          "height": 0
        },
        "id": "p0aIh_GoTwiu",
        "outputId": "3fa761f2-5464-41a3-84b9-ae272e522539"
      },
      "execution_count": 19,
      "outputs": [
        {
          "output_type": "execute_result",
          "data": {
            "text/plain": [
              "<matplotlib.axes._subplots.AxesSubplot at 0x7f30bfd07a90>"
            ]
          },
          "metadata": {},
          "execution_count": 19
        },
        {
          "output_type": "display_data",
          "data": {
            "text/plain": [
              "<Figure size 432x288 with 1 Axes>"
            ],
            "image/png": "[encoded data removed]"
          },
          "metadata": {
            "needs_background": "light"
          }
        }
      ]
    },
    {
      "cell_type": "code",
      "source": [
        "df.groupby('Area').EquivDiameter.nunique().max()==1"
      ],
      "metadata": {
        "colab": {
          "base_uri": "https://localhost:8080/"
        },
        "id": "P8DCAsx8YH9J",
        "outputId": "cd31f278-8668-40f2-bc60-5ff60a58f716"
      },
      "execution_count": 20,
      "outputs": [
        {
          "output_type": "execute_result",
          "data": {
            "text/plain": [
              "True"
            ]
          },
          "metadata": {},
          "execution_count": 20
        }
      ]
    },
    {
      "cell_type": "code",
      "source": [
        "df.groupby('EquivDiameter').Area.nunique().max()==1"
      ],
      "metadata": {
        "colab": {
          "base_uri": "https://localhost:8080/"
        },
        "id": "Q3yLodD-Z93U",
        "outputId": "5ee5451d-204a-4e7a-fb98-728be5b39f21"
      },
      "execution_count": 21,
      "outputs": [
        {
          "output_type": "execute_result",
          "data": {
            "text/plain": [
              "True"
            ]
          },
          "metadata": {},
          "execution_count": 21
        }
      ]
    },
    {
      "cell_type": "markdown",
      "source": [
        "رابطه‌ی نسبتا خطی اما رابطه‌ی ۱ به ۱ وجود ندارد"
      ],
      "metadata": {
        "id": "UTxLNOMtYh5j"
      }
    },
    {
      "cell_type": "code",
      "source": [
        "df.plot.scatter('Area', 'ConvexArea')"
      ],
      "metadata": {
        "colab": {
          "base_uri": "https://localhost:8080/",
          "height": 0
        },
        "id": "Pwc2g65UT-y_",
        "outputId": "817d4ce3-90c3-484b-da5c-e14186686672"
      },
      "execution_count": 22,
      "outputs": [
        {
          "output_type": "execute_result",
          "data": {
            "text/plain": [
              "<matplotlib.axes._subplots.AxesSubplot at 0x7f30bfd87290>"
            ]
          },
          "metadata": {},
          "execution_count": 22
        },
        {
          "output_type": "display_data",
          "data": {
            "text/plain": [
              "<Figure size 432x288 with 1 Axes>"
            ],
            "image/png": "[encoded data removed]"
          },
          "metadata": {
            "needs_background": "light"
          }
        }
      ]
    },
    {
      "cell_type": "code",
      "source": [
        "df.groupby('Area').ConvexArea.nunique().max()==1"
      ],
      "metadata": {
        "colab": {
          "base_uri": "https://localhost:8080/"
        },
        "id": "nQL6SN9rYeH8",
        "outputId": "80d5495f-1830-4c42-f866-15728c99e699"
      },
      "execution_count": 23,
      "outputs": [
        {
          "output_type": "execute_result",
          "data": {
            "text/plain": [
              "False"
            ]
          },
          "metadata": {},
          "execution_count": 23
        }
      ]
    },
    {
      "cell_type": "code",
      "source": [
        "df.groupby('ConvexArea').Area.nunique().max()==1"
      ],
      "metadata": {
        "colab": {
          "base_uri": "https://localhost:8080/"
        },
        "id": "LljaMG7UaZqM",
        "outputId": "b5dfc5a7-4ac9-45b0-ac69-95011bf3e911"
      },
      "execution_count": 24,
      "outputs": [
        {
          "output_type": "execute_result",
          "data": {
            "text/plain": [
              "False"
            ]
          },
          "metadata": {},
          "execution_count": 24
        }
      ]
    },
    {
      "cell_type": "markdown",
      "source": [
        "ستون کانوکس اریا می‌تواند حذف شود"
      ],
      "metadata": {
        "id": "JufH9oUTb-4m"
      }
    },
    {
      "cell_type": "code",
      "source": [
        "df.plot.scatter('MinorAxisLength', 'ConvexArea')"
      ],
      "metadata": {
        "colab": {
          "base_uri": "https://localhost:8080/",
          "height": 0
        },
        "id": "Q1b6CfJOUHcg",
        "outputId": "6bf8fa59-3f97-4bff-e4a2-8e3dc8953d13"
      },
      "execution_count": 25,
      "outputs": [
        {
          "output_type": "execute_result",
          "data": {
            "text/plain": [
              "<matplotlib.axes._subplots.AxesSubplot at 0x7f30bfbe8c10>"
            ]
          },
          "metadata": {},
          "execution_count": 25
        },
        {
          "output_type": "display_data",
          "data": {
            "text/plain": [
              "<Figure size 432x288 with 1 Axes>"
            ],
            "image/png": "[encoded data removed]"
          },
          "metadata": {
            "needs_background": "light"
          }
        }
      ]
    },
    {
      "cell_type": "code",
      "source": [
        "df.groupby('MinorAxisLength').ConvexArea.nunique().max()==1"
      ],
      "metadata": {
        "colab": {
          "base_uri": "https://localhost:8080/"
        },
        "id": "u8mfY8EYb0SG",
        "outputId": "3f5aa8b9-b60f-4a67-b690-4cb1058bb174"
      },
      "execution_count": 26,
      "outputs": [
        {
          "output_type": "execute_result",
          "data": {
            "text/plain": [
              "True"
            ]
          },
          "metadata": {},
          "execution_count": 26
        }
      ]
    },
    {
      "cell_type": "code",
      "source": [
        "df.groupby('ConvexArea').MinorAxisLength.nunique().max()==1"
      ],
      "metadata": {
        "colab": {
          "base_uri": "https://localhost:8080/"
        },
        "id": "j8ynEM4gb6Zs",
        "outputId": "c1792b5b-622b-4438-b09d-3096c48142b6"
      },
      "execution_count": 27,
      "outputs": [
        {
          "output_type": "execute_result",
          "data": {
            "text/plain": [
              "False"
            ]
          },
          "metadata": {},
          "execution_count": 27
        }
      ]
    },
    {
      "cell_type": "markdown",
      "source": [
        "ستون EquivDiameter می‌تواند حذف شود"
      ],
      "metadata": {
        "id": "itCgnD_TcSCM"
      }
    },
    {
      "cell_type": "code",
      "source": [
        "df.plot.scatter('MinorAxisLength', 'EquivDiameter')"
      ],
      "metadata": {
        "colab": {
          "base_uri": "https://localhost:8080/",
          "height": 0
        },
        "id": "yh-OG29gUsVH",
        "outputId": "1a2b236f-6808-48a6-d6ff-a885a93302ba"
      },
      "execution_count": 28,
      "outputs": [
        {
          "output_type": "execute_result",
          "data": {
            "text/plain": [
              "<matplotlib.axes._subplots.AxesSubplot at 0x7f30c03a5750>"
            ]
          },
          "metadata": {},
          "execution_count": 28
        },
        {
          "output_type": "display_data",
          "data": {
            "text/plain": [
              "<Figure size 432x288 with 1 Axes>"
            ],
            "image/png": "[encoded data removed]"
          },
          "metadata": {
            "needs_background": "light"
          }
        }
      ]
    },
    {
      "cell_type": "code",
      "source": [
        "df.groupby('MinorAxisLength').EquivDiameter.nunique().max()==1"
      ],
      "metadata": {
        "colab": {
          "base_uri": "https://localhost:8080/"
        },
        "id": "cGvdtKF8cJDP",
        "outputId": "90a52680-1d83-4b3a-8b4f-2a82d1f2e225"
      },
      "execution_count": 29,
      "outputs": [
        {
          "output_type": "execute_result",
          "data": {
            "text/plain": [
              "True"
            ]
          },
          "metadata": {},
          "execution_count": 29
        }
      ]
    },
    {
      "cell_type": "code",
      "source": [
        "df.groupby('EquivDiameter').MinorAxisLength.nunique().max()==1"
      ],
      "metadata": {
        "colab": {
          "base_uri": "https://localhost:8080/"
        },
        "id": "vMItOyGccL0c",
        "outputId": "1703cd59-97f8-4df6-984c-cb1621f8522d"
      },
      "execution_count": 30,
      "outputs": [
        {
          "output_type": "execute_result",
          "data": {
            "text/plain": [
              "False"
            ]
          },
          "metadata": {},
          "execution_count": 30
        }
      ]
    },
    {
      "cell_type": "markdown",
      "source": [
        "امکان حذف ستون شیپ فکتور ۱ زیرا به ازای هر مقدار برای ستون دیگر یک مقدار یونیک برای شیپ فکتور ۱ موجود است"
      ],
      "metadata": {
        "id": "BDLCCpFkZhfW"
      }
    },
    {
      "cell_type": "code",
      "source": [
        "df.plot.scatter('MinorAxisLength', 'ShapeFactor1')"
      ],
      "metadata": {
        "colab": {
          "base_uri": "https://localhost:8080/",
          "height": 0
        },
        "id": "j-QhZB1mU3vm",
        "outputId": "1693fbc5-8bcd-422a-c147-addea4be52b8"
      },
      "execution_count": 31,
      "outputs": [
        {
          "output_type": "execute_result",
          "data": {
            "text/plain": [
              "<matplotlib.axes._subplots.AxesSubplot at 0x7f30bfde8f50>"
            ]
          },
          "metadata": {},
          "execution_count": 31
        },
        {
          "output_type": "display_data",
          "data": {
            "text/plain": [
              "<Figure size 432x288 with 1 Axes>"
            ],
            "image/png": "[encoded data removed]"
          },
          "metadata": {
            "needs_background": "light"
          }
        }
      ]
    },
    {
      "cell_type": "code",
      "source": [
        "df.groupby('MinorAxisLength').ShapeFactor1.nunique().max()==1"
      ],
      "metadata": {
        "colab": {
          "base_uri": "https://localhost:8080/"
        },
        "id": "CnV2iDxGYvuA",
        "outputId": "51ad8820-804e-4831-84f2-2a93070db8b5"
      },
      "execution_count": 32,
      "outputs": [
        {
          "output_type": "execute_result",
          "data": {
            "text/plain": [
              "True"
            ]
          },
          "metadata": {},
          "execution_count": 32
        }
      ]
    },
    {
      "cell_type": "code",
      "source": [
        "df.groupby('ShapeFactor1').MinorAxisLength.nunique().max()==1"
      ],
      "metadata": {
        "colab": {
          "base_uri": "https://localhost:8080/"
        },
        "id": "Y2OdX1OBY2qi",
        "outputId": "f4d6f38e-3158-45d1-863b-2fc3720b77d8"
      },
      "execution_count": 33,
      "outputs": [
        {
          "output_type": "execute_result",
          "data": {
            "text/plain": [
              "False"
            ]
          },
          "metadata": {},
          "execution_count": 33
        }
      ]
    },
    {
      "cell_type": "markdown",
      "source": [
        "رابطه‌ی بین آن‌ها موجود است ولی هیچ‌کدام با دیگری رابطه یک به یک ندارند"
      ],
      "metadata": {
        "id": "ueI1vP7SanBq"
      }
    },
    {
      "cell_type": "code",
      "source": [
        "df.plot.scatter('ConvexArea', 'EquivDiameter')"
      ],
      "metadata": {
        "colab": {
          "base_uri": "https://localhost:8080/",
          "height": 0
        },
        "id": "Lm5iuukWU-sn",
        "outputId": "e7260a95-a07d-413b-8339-e8a38a05fcbd"
      },
      "execution_count": 34,
      "outputs": [
        {
          "output_type": "execute_result",
          "data": {
            "text/plain": [
              "<matplotlib.axes._subplots.AxesSubplot at 0x7f30bff1c590>"
            ]
          },
          "metadata": {},
          "execution_count": 34
        },
        {
          "output_type": "display_data",
          "data": {
            "text/plain": [
              "<Figure size 432x288 with 1 Axes>"
            ],
            "image/png": "[encoded data removed]"
          },
          "metadata": {
            "needs_background": "light"
          }
        }
      ]
    },
    {
      "cell_type": "code",
      "source": [
        "df.groupby('EquivDiameter').ConvexArea.nunique().max()==1"
      ],
      "metadata": {
        "colab": {
          "base_uri": "https://localhost:8080/"
        },
        "id": "lx3Z7kFMYqDi",
        "outputId": "4f9edf27-3cc7-4346-ab5f-bc3cc58e6390"
      },
      "execution_count": 35,
      "outputs": [
        {
          "output_type": "execute_result",
          "data": {
            "text/plain": [
              "False"
            ]
          },
          "metadata": {},
          "execution_count": 35
        }
      ]
    },
    {
      "cell_type": "code",
      "source": [
        "df.groupby('ConvexArea').EquivDiameter.nunique().max()==1"
      ],
      "metadata": {
        "colab": {
          "base_uri": "https://localhost:8080/"
        },
        "id": "709n_9Fjag_7",
        "outputId": "3d4ee42e-2e1d-4a51-aac3-23dd27319f76"
      },
      "execution_count": 36,
      "outputs": [
        {
          "output_type": "execute_result",
          "data": {
            "text/plain": [
              "False"
            ]
          },
          "metadata": {},
          "execution_count": 36
        }
      ]
    },
    {
      "cell_type": "markdown",
      "source": [
        "رابطه ی ۱ به ۱ برای هیچ کدام از ستون‌ها صادق نمی‌باشد"
      ],
      "metadata": {
        "id": "acmRpprMc4m_"
      }
    },
    {
      "cell_type": "code",
      "source": [
        "df.plot.scatter('EquivDiameter', 'ShapeFactor1')"
      ],
      "metadata": {
        "colab": {
          "base_uri": "https://localhost:8080/",
          "height": 0
        },
        "id": "T_9YfvUNVJdt",
        "outputId": "0db445f2-a66b-4838-930f-eb08d293a2e8"
      },
      "execution_count": 37,
      "outputs": [
        {
          "output_type": "execute_result",
          "data": {
            "text/plain": [
              "<matplotlib.axes._subplots.AxesSubplot at 0x7f30c031afd0>"
            ]
          },
          "metadata": {},
          "execution_count": 37
        },
        {
          "output_type": "display_data",
          "data": {
            "text/plain": [
              "<Figure size 432x288 with 1 Axes>"
            ],
            "image/png": "[encoded data removed]"
          },
          "metadata": {
            "needs_background": "light"
          }
        }
      ]
    },
    {
      "cell_type": "code",
      "source": [
        "df.groupby('EquivDiameter').ShapeFactor1.nunique().max()==1"
      ],
      "metadata": {
        "colab": {
          "base_uri": "https://localhost:8080/"
        },
        "id": "GAqYysLecvjf",
        "outputId": "3cf15f6b-b4b1-4c03-9f90-4fab22ee6248"
      },
      "execution_count": 38,
      "outputs": [
        {
          "output_type": "execute_result",
          "data": {
            "text/plain": [
              "False"
            ]
          },
          "metadata": {},
          "execution_count": 38
        }
      ]
    },
    {
      "cell_type": "code",
      "source": [
        "df.groupby('ShapeFactor1').EquivDiameter.nunique().max()==1"
      ],
      "metadata": {
        "colab": {
          "base_uri": "https://localhost:8080/"
        },
        "id": "r77_8ulDczqp",
        "outputId": "93599c58-3944-4987-9259-4b378e9ecfc6"
      },
      "execution_count": 39,
      "outputs": [
        {
          "output_type": "execute_result",
          "data": {
            "text/plain": [
              "False"
            ]
          },
          "metadata": {},
          "execution_count": 39
        }
      ]
    },
    {
      "cell_type": "markdown",
      "source": [
        "طبق نتایج بالا ستون MinorAxisLength می‌تواند نماینده‌ی بقیه‌ی ستون‌ها باشد."
      ],
      "metadata": {
        "id": "Ik01Veq1dHmc"
      }
    },
    {
      "cell_type": "markdown",
      "source": [
        "##Relations between AspectRation, Eccentricity, Compactness, ShapeFactor3, and ShapeFactor2"
      ],
      "metadata": {
        "id": "DJNkjj99ddRS"
      }
    },
    {
      "cell_type": "markdown",
      "source": [
        "رابطه‌ی وارون پذیر می‌توان هر کدام از ستون‌ها را حذف کرد زیرا هر یک بیان گر دیگری هستند"
      ],
      "metadata": {
        "id": "cU90KejWfcrg"
      }
    },
    {
      "cell_type": "code",
      "source": [
        "df.plot.scatter('AspectRation', 'Eccentricity')"
      ],
      "metadata": {
        "colab": {
          "base_uri": "https://localhost:8080/",
          "height": 0
        },
        "id": "Nmc8epZ5fIQa",
        "outputId": "398ad59b-efef-45db-f05f-2ff867e97735"
      },
      "execution_count": 40,
      "outputs": [
        {
          "output_type": "execute_result",
          "data": {
            "text/plain": [
              "<matplotlib.axes._subplots.AxesSubplot at 0x7f30bffda410>"
            ]
          },
          "metadata": {},
          "execution_count": 40
        },
        {
          "output_type": "display_data",
          "data": {
            "text/plain": [
              "<Figure size 432x288 with 1 Axes>"
            ],
            "image/png": "[encoded data removed]"
          },
          "metadata": {
            "needs_background": "light"
          }
        }
      ]
    },
    {
      "cell_type": "code",
      "source": [
        "df.groupby('AspectRation').Eccentricity.nunique().max()==1"
      ],
      "metadata": {
        "colab": {
          "base_uri": "https://localhost:8080/"
        },
        "id": "dRAftYvmfPjb",
        "outputId": "9e749ff2-5d76-4e67-b613-039028902316"
      },
      "execution_count": 41,
      "outputs": [
        {
          "output_type": "execute_result",
          "data": {
            "text/plain": [
              "True"
            ]
          },
          "metadata": {},
          "execution_count": 41
        }
      ]
    },
    {
      "cell_type": "code",
      "source": [
        "df.groupby('Eccentricity').AspectRation.nunique().max()==1"
      ],
      "metadata": {
        "colab": {
          "base_uri": "https://localhost:8080/"
        },
        "id": "BtbX4sVifVRh",
        "outputId": "99f97c74-567c-4b61-ea14-c6d3fa5fe132"
      },
      "execution_count": 42,
      "outputs": [
        {
          "output_type": "execute_result",
          "data": {
            "text/plain": [
              "True"
            ]
          },
          "metadata": {},
          "execution_count": 42
        }
      ]
    },
    {
      "cell_type": "markdown",
      "source": [
        "رابطه‌ی وارون پذیر می‌توان یکی از ستون‌ها را حذف نمود"
      ],
      "metadata": {
        "id": "NE8cgy-dfzUx"
      }
    },
    {
      "cell_type": "code",
      "source": [
        "df.plot.scatter('AspectRation', 'Compactness')"
      ],
      "metadata": {
        "colab": {
          "base_uri": "https://localhost:8080/",
          "height": 0
        },
        "id": "pQ3-DC6_flTz",
        "outputId": "75241779-288f-4b94-b5dd-8714c3a30a8a"
      },
      "execution_count": 43,
      "outputs": [
        {
          "output_type": "execute_result",
          "data": {
            "text/plain": [
              "<matplotlib.axes._subplots.AxesSubplot at 0x7f30c01d1590>"
            ]
          },
          "metadata": {},
          "execution_count": 43
        },
        {
          "output_type": "display_data",
          "data": {
            "text/plain": [
              "<Figure size 432x288 with 1 Axes>"
            ],
            "image/png": "[encoded data removed]"
          },
          "metadata": {
            "needs_background": "light"
          }
        }
      ]
    },
    {
      "cell_type": "code",
      "source": [
        "df.groupby('AspectRation').Compactness.nunique().max()==1"
      ],
      "metadata": {
        "colab": {
          "base_uri": "https://localhost:8080/"
        },
        "id": "l8w3b56Ffqs0",
        "outputId": "b5825f76-95c1-4c35-e6ad-b0ca5cb6bddc"
      },
      "execution_count": 44,
      "outputs": [
        {
          "output_type": "execute_result",
          "data": {
            "text/plain": [
              "True"
            ]
          },
          "metadata": {},
          "execution_count": 44
        }
      ]
    },
    {
      "cell_type": "code",
      "source": [
        "df.groupby('Compactness').AspectRation.nunique().max()==1"
      ],
      "metadata": {
        "colab": {
          "base_uri": "https://localhost:8080/"
        },
        "id": "Qy518CamfsX2",
        "outputId": "36e609d7-db84-446b-8111-bf424e49f7a4"
      },
      "execution_count": 45,
      "outputs": [
        {
          "output_type": "execute_result",
          "data": {
            "text/plain": [
              "True"
            ]
          },
          "metadata": {},
          "execution_count": 45
        }
      ]
    },
    {
      "cell_type": "markdown",
      "source": [
        "رابطه‌ی وارون پذیر می‌توان یکی از ستون‌ها را حذف نمود"
      ],
      "metadata": {
        "id": "gEBc_ZxVgIYO"
      }
    },
    {
      "cell_type": "code",
      "source": [
        "df.plot.scatter('AspectRation', 'ShapeFactor3')"
      ],
      "metadata": {
        "colab": {
          "base_uri": "https://localhost:8080/",
          "height": 0
        },
        "id": "cGXRf7fFf3p9",
        "outputId": "1bc6f603-4a96-435c-893b-88048285d67f"
      },
      "execution_count": 46,
      "outputs": [
        {
          "output_type": "execute_result",
          "data": {
            "text/plain": [
              "<matplotlib.axes._subplots.AxesSubplot at 0x7f30bfe37710>"
            ]
          },
          "metadata": {},
          "execution_count": 46
        },
        {
          "output_type": "display_data",
          "data": {
            "text/plain": [
              "<Figure size 432x288 with 1 Axes>"
            ],
            "image/png": "[encoded data removed]"
          },
          "metadata": {
            "needs_background": "light"
          }
        }
      ]
    },
    {
      "cell_type": "code",
      "source": [
        "df.groupby('AspectRation').ShapeFactor3.nunique().max()==1"
      ],
      "metadata": {
        "colab": {
          "base_uri": "https://localhost:8080/"
        },
        "id": "o9tXF_Epf-30",
        "outputId": "2f7dbf53-b3cc-4f9c-d131-9da3bbda9006"
      },
      "execution_count": 47,
      "outputs": [
        {
          "output_type": "execute_result",
          "data": {
            "text/plain": [
              "True"
            ]
          },
          "metadata": {},
          "execution_count": 47
        }
      ]
    },
    {
      "cell_type": "code",
      "source": [
        "df.groupby('ShapeFactor3').AspectRation.nunique().max()==1"
      ],
      "metadata": {
        "colab": {
          "base_uri": "https://localhost:8080/"
        },
        "id": "3f6InnwNgCBm",
        "outputId": "c7a89980-18be-4bfc-8bb6-95efe446142a"
      },
      "execution_count": 48,
      "outputs": [
        {
          "output_type": "execute_result",
          "data": {
            "text/plain": [
              "True"
            ]
          },
          "metadata": {},
          "execution_count": 48
        }
      ]
    },
    {
      "cell_type": "markdown",
      "source": [
        "رابطه‌ی وارون پذیر. یکی از ستون‌ها امکان حذف دارد"
      ],
      "metadata": {
        "id": "UmBK8NzTgnHp"
      }
    },
    {
      "cell_type": "code",
      "source": [
        "df.plot.scatter('Eccentricity', 'Compactness')"
      ],
      "metadata": {
        "colab": {
          "base_uri": "https://localhost:8080/",
          "height": 0
        },
        "id": "drYKmkrJgNlm",
        "outputId": "172a9168-7ef4-4f26-db77-e5ec7ab27798"
      },
      "execution_count": 49,
      "outputs": [
        {
          "output_type": "execute_result",
          "data": {
            "text/plain": [
              "<matplotlib.axes._subplots.AxesSubplot at 0x7f30bfede490>"
            ]
          },
          "metadata": {},
          "execution_count": 49
        },
        {
          "output_type": "display_data",
          "data": {
            "text/plain": [
              "<Figure size 432x288 with 1 Axes>"
            ],
            "image/png": "[encoded data removed]"
          },
          "metadata": {
            "needs_background": "light"
          }
        }
      ]
    },
    {
      "cell_type": "code",
      "source": [
        "df.groupby('Eccentricity').Compactness.nunique().max()==1"
      ],
      "metadata": {
        "colab": {
          "base_uri": "https://localhost:8080/"
        },
        "id": "cPwiazKzgXoT",
        "outputId": "9df9b17d-48a1-47df-ef9c-8ed61a86f207"
      },
      "execution_count": 50,
      "outputs": [
        {
          "output_type": "execute_result",
          "data": {
            "text/plain": [
              "True"
            ]
          },
          "metadata": {},
          "execution_count": 50
        }
      ]
    },
    {
      "cell_type": "code",
      "source": [
        "df.groupby('Compactness').Eccentricity.nunique().max()==1"
      ],
      "metadata": {
        "colab": {
          "base_uri": "https://localhost:8080/"
        },
        "id": "hX_Z-10Xghwi",
        "outputId": "e44549ae-2d0c-4618-c628-6068fc7919ec"
      },
      "execution_count": 51,
      "outputs": [
        {
          "output_type": "execute_result",
          "data": {
            "text/plain": [
              "True"
            ]
          },
          "metadata": {},
          "execution_count": 51
        }
      ]
    },
    {
      "cell_type": "markdown",
      "source": [
        "رابطه‌ی وارون پذیر یکی از آن‌ها می‌تواند حذف شود"
      ],
      "metadata": {
        "id": "5VUdQOEdg6t5"
      }
    },
    {
      "cell_type": "code",
      "source": [
        "df.plot.scatter('Eccentricity', 'ShapeFactor3')"
      ],
      "metadata": {
        "colab": {
          "base_uri": "https://localhost:8080/",
          "height": 0
        },
        "id": "ei8ymUQTgs3L",
        "outputId": "382fd5bb-b4ee-4967-e484-a54c55b2648d"
      },
      "execution_count": 52,
      "outputs": [
        {
          "output_type": "execute_result",
          "data": {
            "text/plain": [
              "<matplotlib.axes._subplots.AxesSubplot at 0x7f30c00fdb50>"
            ]
          },
          "metadata": {},
          "execution_count": 52
        },
        {
          "output_type": "display_data",
          "data": {
            "text/plain": [
              "<Figure size 432x288 with 1 Axes>"
            ],
            "image/png": "[encoded data removed]"
          },
          "metadata": {
            "needs_background": "light"
          }
        }
      ]
    },
    {
      "cell_type": "code",
      "source": [
        "df.groupby('Eccentricity').ShapeFactor3.nunique().max()==1"
      ],
      "metadata": {
        "colab": {
          "base_uri": "https://localhost:8080/"
        },
        "id": "bCFo3Kc-gzMT",
        "outputId": "31799293-4d7c-45b7-c54b-0901442b5043"
      },
      "execution_count": 53,
      "outputs": [
        {
          "output_type": "execute_result",
          "data": {
            "text/plain": [
              "True"
            ]
          },
          "metadata": {},
          "execution_count": 53
        }
      ]
    },
    {
      "cell_type": "code",
      "source": [
        "df.groupby('ShapeFactor3').Eccentricity.nunique().max()==1"
      ],
      "metadata": {
        "colab": {
          "base_uri": "https://localhost:8080/"
        },
        "id": "bR18FcfSg2in",
        "outputId": "2d37979c-4693-4718-ceaf-bf09db95e210"
      },
      "execution_count": 54,
      "outputs": [
        {
          "output_type": "execute_result",
          "data": {
            "text/plain": [
              "True"
            ]
          },
          "metadata": {},
          "execution_count": 54
        }
      ]
    },
    {
      "cell_type": "markdown",
      "source": [
        "شیپ فکتور ۲ را می‌توان حذف نمود زیرا به ازای مقدار ستوان دیگری یک مقدار یونیک برای شیپ فکتور ۲ وجود دارد"
      ],
      "metadata": {
        "id": "HX7AY0yShRbB"
      }
    },
    {
      "cell_type": "code",
      "source": [
        "df.plot.scatter('Eccentricity', 'ShapeFactor2')"
      ],
      "metadata": {
        "colab": {
          "base_uri": "https://localhost:8080/",
          "height": 0
        },
        "id": "q_LFAfIlhBzD",
        "outputId": "de558f8b-6df6-4c90-8af7-a042d8b47938"
      },
      "execution_count": 55,
      "outputs": [
        {
          "output_type": "execute_result",
          "data": {
            "text/plain": [
              "<matplotlib.axes._subplots.AxesSubplot at 0x7f30c003c110>"
            ]
          },
          "metadata": {},
          "execution_count": 55
        },
        {
          "output_type": "display_data",
          "data": {
            "text/plain": [
              "<Figure size 432x288 with 1 Axes>"
            ],
            "image/png": "[encoded data removed]"
          },
          "metadata": {
            "needs_background": "light"
          }
        }
      ]
    },
    {
      "cell_type": "code",
      "source": [
        "df.groupby('Eccentricity').ShapeFactor2.nunique().max()==1"
      ],
      "metadata": {
        "colab": {
          "base_uri": "https://localhost:8080/"
        },
        "id": "nGzXSSo7hH7r",
        "outputId": "dd1fb3e4-9d39-4393-8179-cbab4e964a05"
      },
      "execution_count": 56,
      "outputs": [
        {
          "output_type": "execute_result",
          "data": {
            "text/plain": [
              "True"
            ]
          },
          "metadata": {},
          "execution_count": 56
        }
      ]
    },
    {
      "cell_type": "code",
      "source": [
        "df.groupby('ShapeFactor2').Eccentricity.nunique().max()==1"
      ],
      "metadata": {
        "colab": {
          "base_uri": "https://localhost:8080/"
        },
        "id": "Ycm4VsDmhJhs",
        "outputId": "79025033-ca02-40e2-8f5b-b4261aefdb09"
      },
      "execution_count": 57,
      "outputs": [
        {
          "output_type": "execute_result",
          "data": {
            "text/plain": [
              "False"
            ]
          },
          "metadata": {},
          "execution_count": 57
        }
      ]
    },
    {
      "cell_type": "markdown",
      "source": [
        "شیپ فکتور ۲ را می‌توان حذف کرد"
      ],
      "metadata": {
        "id": "ezJyf0Nxhyl8"
      }
    },
    {
      "cell_type": "code",
      "source": [
        "df.plot.scatter('ShapeFactor3', 'ShapeFactor2')"
      ],
      "metadata": {
        "colab": {
          "base_uri": "https://localhost:8080/",
          "height": 0
        },
        "id": "eD11T8kJhhsn",
        "outputId": "af2d948d-a2f3-4b9f-fd24-682978942a0c"
      },
      "execution_count": 58,
      "outputs": [
        {
          "output_type": "execute_result",
          "data": {
            "text/plain": [
              "<matplotlib.axes._subplots.AxesSubplot at 0x7f30bff16e10>"
            ]
          },
          "metadata": {},
          "execution_count": 58
        },
        {
          "output_type": "display_data",
          "data": {
            "text/plain": [
              "<Figure size 432x288 with 1 Axes>"
            ],
            "image/png": "[encoded data removed]"
          },
          "metadata": {
            "needs_background": "light"
          }
        }
      ]
    },
    {
      "cell_type": "code",
      "source": [
        "df.groupby('ShapeFactor3').ShapeFactor2.nunique().max()==1"
      ],
      "metadata": {
        "colab": {
          "base_uri": "https://localhost:8080/"
        },
        "id": "HoAQSYTJhoN-",
        "outputId": "203d12ee-7473-46b4-eef6-d8ea984ff8b8"
      },
      "execution_count": 59,
      "outputs": [
        {
          "output_type": "execute_result",
          "data": {
            "text/plain": [
              "True"
            ]
          },
          "metadata": {},
          "execution_count": 59
        }
      ]
    },
    {
      "cell_type": "code",
      "source": [
        "df.groupby('ShapeFactor2').ShapeFactor3.nunique().max()==1"
      ],
      "metadata": {
        "colab": {
          "base_uri": "https://localhost:8080/"
        },
        "id": "CLBAYdmwhsO-",
        "outputId": "300c2ae8-dd9b-4f2d-9013-b1a882e66830"
      },
      "execution_count": 60,
      "outputs": [
        {
          "output_type": "execute_result",
          "data": {
            "text/plain": [
              "False"
            ]
          },
          "metadata": {},
          "execution_count": 60
        }
      ]
    },
    {
      "cell_type": "markdown",
      "source": [
        "طبق نتایج بالا Eccentricity می‌تواند نماینده‌ی بقیه‌ی ستون‌ها باشد."
      ],
      "metadata": {
        "id": "wbhv0lprh9dj"
      }
    },
    {
      "cell_type": "markdown",
      "source": [
        "#preprocessing"
      ],
      "metadata": {
        "id": "AqypqVyWiN7p"
      }
    },
    {
      "cell_type": "markdown",
      "source": [
        "## Delete columns\n",
        "طبق نتایجی که در آنالیز بدست آمده است برخی از ستون‌ها حذف می‌شوند"
      ],
      "metadata": {
        "id": "RdxWbTBxlkOw"
      }
    },
    {
      "cell_type": "code",
      "source": [
        "df = df.drop(['AspectRation', 'Compactness', 'ShapeFactor3', 'ShapeFactor2'], axis=1)"
      ],
      "metadata": {
        "id": "VnHhvr4siQry"
      },
      "execution_count": 61,
      "outputs": []
    },
    {
      "cell_type": "code",
      "source": [
        "df = df.drop(['Area', 'EquivDiameter', 'ConvexArea', 'ShapeFactor1'], axis=1)"
      ],
      "metadata": {
        "id": "6Su8WlUOmVXD"
      },
      "execution_count": 62,
      "outputs": []
    },
    {
      "cell_type": "markdown",
      "source": [
        "##hadle unreasonable values and missing values and outliers"
      ],
      "metadata": {
        "id": "P8WHslwVmqFd"
      }
    },
    {
      "cell_type": "markdown",
      "source": [
        "مقادیر غیر قابل قبول را با نال پر می‌کنیم تا در فرآیند پر کردن میسینگ ولیو‌ها مقدار جدیدی بگیرند"
      ],
      "metadata": {
        "id": "O2kd9z5J3vIm"
      }
    },
    {
      "cell_type": "code",
      "source": [
        "df.loc[df[\"Perimeter\"] <=0, \"Perimeter\"] = np.nan"
      ],
      "metadata": {
        "id": "b6GiWKNK3rl5"
      },
      "execution_count": 63,
      "outputs": []
    },
    {
      "cell_type": "code",
      "source": [
        "for class_name in df['Class'].unique():\n",
        "    df.Perimeter.fillna(df[df['Class']==class_name].Perimeter.mean(), inplace=True)"
      ],
      "metadata": {
        "id": "Se-IOZtB4Ool"
      },
      "execution_count": 64,
      "outputs": []
    },
    {
      "cell_type": "code",
      "source": [
        "df.loc[df[\"MajorAxisLength\"] <=0, \"MajorAxisLength\"] = np.nan"
      ],
      "metadata": {
        "id": "GUnQHp_26USr"
      },
      "execution_count": 65,
      "outputs": []
    },
    {
      "cell_type": "code",
      "source": [
        "for class_name in df['Class'].unique():\n",
        "    df.MajorAxisLength.fillna(df[df['Class']==class_name].MajorAxisLength.mean(), inplace=True)"
      ],
      "metadata": {
        "id": "fL5LOuAn6YGE"
      },
      "execution_count": 66,
      "outputs": []
    },
    {
      "cell_type": "code",
      "source": [
        "df.info()"
      ],
      "metadata": {
        "colab": {
          "base_uri": "https://localhost:8080/"
        },
        "id": "M9s7k_2xtyN1",
        "outputId": "05c8158a-16cf-49f3-fab5-c27fcba2a93c"
      },
      "execution_count": 67,
      "outputs": [
        {
          "output_type": "stream",
          "name": "stdout",
          "text": [
            "<class 'pandas.core.frame.DataFrame'>\n",
            "RangeIndex: 13611 entries, 0 to 13610\n",
            "Data columns (total 10 columns):\n",
            " #   Column           Non-Null Count  Dtype  \n",
            "---  ------           --------------  -----  \n",
            " 0   Perimeter        13611 non-null  float64\n",
            " 1   MajorAxisLength  13611 non-null  float64\n",
            " 2   MinorAxisLength  13611 non-null  float64\n",
            " 3   Eccentricity     13611 non-null  float64\n",
            " 4   Extent           13611 non-null  float64\n",
            " 5   Solidity         13611 non-null  float64\n",
            " 6   roundness        13611 non-null  float64\n",
            " 7   ShapeFactor4     13611 non-null  float64\n",
            " 8   Class            13611 non-null  object \n",
            " 9   ClassId          13611 non-null  int8   \n",
            "dtypes: float64(8), int8(1), object(1)\n",
            "memory usage: 970.4+ KB\n"
          ]
        }
      ]
    },
    {
      "cell_type": "markdown",
      "source": [
        "outliers for kmeans and agglomerative<br/>\n",
        "برای عملکرد بهتر کلاستر‌ها بهتر از اوت‌لایر‌ها حذف شوند به همین علت اوت‌لایر‌ها با توجه به کلاسشان حذف و جایگزین می‌شود (اگر مقادیر یک کلاس بالا باشد نسبت به خودش اصلاح گردد تا حالت‌های متمایز کلاس نسبت به دیگر کلاس‌ها ازبین نرود)<br/>\n",
        "دی بی اسکن توانایی تشخیص نویز دارد به همین علت داده‌ها به دو صورت با اوت لایر و بدون آن تست می‌شود."
      ],
      "metadata": {
        "id": "dfdxG7sKjoDH"
      }
    },
    {
      "cell_type": "code",
      "source": [
        "columns = list(df.columns)\n",
        "columns.remove('Class')\n",
        "columns.remove('ClassId')\n",
        "columns"
      ],
      "metadata": {
        "colab": {
          "base_uri": "https://localhost:8080/"
        },
        "id": "CS8eqlMaikDo",
        "outputId": "9e6d0cd5-22e4-4c57-ba69-8994e69b0859"
      },
      "execution_count": 68,
      "outputs": [
        {
          "output_type": "execute_result",
          "data": {
            "text/plain": [
              "['Perimeter',\n",
              " 'MajorAxisLength',\n",
              " 'MinorAxisLength',\n",
              " 'Eccentricity',\n",
              " 'Extent',\n",
              " 'Solidity',\n",
              " 'roundness',\n",
              " 'ShapeFactor4']"
            ]
          },
          "metadata": {},
          "execution_count": 68
        }
      ]
    },
    {
      "cell_type": "code",
      "source": [
        "df_no_outliers = df.copy()\n",
        "for col in columns:\n",
        "    for class_name in df_no_outliers['Class'].unique():\n",
        "      q1 = df_no_outliers[df_no_outliers['Class']==class_name][col].quantile(0.25)\n",
        "      q3 = df_no_outliers[df_no_outliers['Class']==class_name][col].quantile(0.75)\n",
        "      IQR = q3 - q1\n",
        "      upper = q3 + 1.5 * IQR\n",
        "      lower = q1 - 1.5 * IQR\n",
        "      condition = ((df_no_outliers['Class'] == class_name) & \n",
        "                   ((df_no_outliers[col] < lower) | (df_no_outliers[col] > upper)))\n",
        "      df_no_outliers.loc[condition, col] = np.nan\n",
        "      df_no_outliers[col].fillna(df_no_outliers[df_no_outliers['Class']==class_name][col].mean(), inplace=True)"
      ],
      "metadata": {
        "id": "CO1zw6foi1NE"
      },
      "execution_count": 69,
      "outputs": []
    },
    {
      "cell_type": "code",
      "source": [
        "df_no_outliers.info()"
      ],
      "metadata": {
        "colab": {
          "base_uri": "https://localhost:8080/"
        },
        "id": "cBB8rGfC3B24",
        "outputId": "5b661405-4f1c-4866-c28e-803cfa512622"
      },
      "execution_count": 70,
      "outputs": [
        {
          "output_type": "stream",
          "name": "stdout",
          "text": [
            "<class 'pandas.core.frame.DataFrame'>\n",
            "RangeIndex: 13611 entries, 0 to 13610\n",
            "Data columns (total 10 columns):\n",
            " #   Column           Non-Null Count  Dtype  \n",
            "---  ------           --------------  -----  \n",
            " 0   Perimeter        13611 non-null  float64\n",
            " 1   MajorAxisLength  13611 non-null  float64\n",
            " 2   MinorAxisLength  13611 non-null  float64\n",
            " 3   Eccentricity     13611 non-null  float64\n",
            " 4   Extent           13611 non-null  float64\n",
            " 5   Solidity         13611 non-null  float64\n",
            " 6   roundness        13611 non-null  float64\n",
            " 7   ShapeFactor4     13611 non-null  float64\n",
            " 8   Class            13611 non-null  object \n",
            " 9   ClassId          13611 non-null  int8   \n",
            "dtypes: float64(8), int8(1), object(1)\n",
            "memory usage: 970.4+ KB\n"
          ]
        }
      ]
    },
    {
      "cell_type": "markdown",
      "source": [
        "##Normalization"
      ],
      "metadata": {
        "id": "dx5AW4MWpC5o"
      }
    },
    {
      "cell_type": "code",
      "source": [
        "scaler = MinMaxScaler()"
      ],
      "metadata": {
        "id": "ZzCebrIKpFFO"
      },
      "execution_count": 71,
      "outputs": []
    },
    {
      "cell_type": "code",
      "source": [
        "columns = list(df.columns)\n",
        "columns.remove('Class')\n",
        "columns.remove('ClassId')\n",
        "columns"
      ],
      "metadata": {
        "colab": {
          "base_uri": "https://localhost:8080/"
        },
        "id": "uAigmi5e1t7N",
        "outputId": "52aaa053-f1c4-4be0-873e-a6f20949e34a"
      },
      "execution_count": 72,
      "outputs": [
        {
          "output_type": "execute_result",
          "data": {
            "text/plain": [
              "['Perimeter',\n",
              " 'MajorAxisLength',\n",
              " 'MinorAxisLength',\n",
              " 'Eccentricity',\n",
              " 'Extent',\n",
              " 'Solidity',\n",
              " 'roundness',\n",
              " 'ShapeFactor4']"
            ]
          },
          "metadata": {},
          "execution_count": 72
        }
      ]
    },
    {
      "cell_type": "code",
      "source": [
        "normalization_data = scaler.fit_transform(df_no_outliers[columns])"
      ],
      "metadata": {
        "id": "mPnaxYYzpVU5"
      },
      "execution_count": 73,
      "outputs": []
    },
    {
      "cell_type": "code",
      "source": [
        "normalization_data_with_outli = scaler.fit_transform(df[columns])"
      ],
      "metadata": {
        "id": "_6fIBjkgt2o3"
      },
      "execution_count": 74,
      "outputs": []
    },
    {
      "cell_type": "markdown",
      "source": [
        "#Clustring model\n",
        "مدل‌ها با استفاده از معیار‌های زیر ارزیابی می‌شوند\n",
        "\n",
        "\n",
        "1.   adjusted_rand_score\n",
        "2.   adjusted_mutual_info_score\n",
        "3.   silhouette_score\n",
        "\n",
        "<p>در دو مورد اول معیار براساس کلاستر واقعی که در اختیار داریم مدل ارزیابی می‌شود یعنی چه میزان خوشه‌بندی داده‌ها توسط مدل با خوشه‌بندی اصلی داده‌ها شباهت دارد. اما در مورد سوم داده‌ها براساس خوشه‌ای که برای آن‌ها اختصاص داده می‌شود بحث می‌شود یعنی مدل از لحاظ میزان خوب بودن جد‌اسازی داده‌ها و نزدیکی داده‌های یک خوشه (فشردگی داده‌ها در یک خوشه) ارزیابی خواهد شد<p/>\n",
        "طبق نتایج زیر مدل‌ها به ترتیب زیر عملکرد بهتری از نظر درستی خوشه‌ها نسبت‌ به خوشه‌های اصلی، را داشته‌اند:\n",
        "\n",
        "\n",
        "*   Agglomerative (without outliers)\n",
        "*   Kmeans (without outliers)\n",
        "*   DBScan with outliers\n",
        "*   DBScan without outliers\n",
        "\n",
        "\n",
        "\n"
      ],
      "metadata": {
        "id": "zNaWgzf42AWt"
      }
    },
    {
      "cell_type": "markdown",
      "source": [
        "##Kmeans"
      ],
      "metadata": {
        "id": "QZD6GVnH2DnY"
      }
    },
    {
      "cell_type": "markdown",
      "source": [
        "تغییر مقادیر پارامتر‌ها باعث بهبود کلاسترینگ نشد"
      ],
      "metadata": {
        "id": "3khrJVtSa4bH"
      }
    },
    {
      "cell_type": "code",
      "source": [
        "kmeans_model = KMeans(n_clusters=7)\n",
        "kmeans_model.fit(normalization_data)"
      ],
      "metadata": {
        "colab": {
          "base_uri": "https://localhost:8080/"
        },
        "id": "nyLA8CLk2C7_",
        "outputId": "4927907b-7e54-4313-ea0f-78670a375049"
      },
      "execution_count": 75,
      "outputs": [
        {
          "output_type": "execute_result",
          "data": {
            "text/plain": [
              "KMeans(n_clusters=7)"
            ]
          },
          "metadata": {},
          "execution_count": 75
        }
      ]
    },
    {
      "cell_type": "code",
      "source": [
        "kmeans_model.labels_"
      ],
      "metadata": {
        "colab": {
          "base_uri": "https://localhost:8080/"
        },
        "id": "cPR7mGm32jTU",
        "outputId": "3db0da1d-a360-4f7c-f69b-0ef5316e8643"
      },
      "execution_count": 76,
      "outputs": [
        {
          "output_type": "execute_result",
          "data": {
            "text/plain": [
              "array([3, 4, 3, ..., 3, 1, 3], dtype=int32)"
            ]
          },
          "metadata": {},
          "execution_count": 76
        }
      ]
    },
    {
      "cell_type": "code",
      "source": [
        "adjusted_rand_score(labels_true=df['ClassId'], labels_pred=kmeans_model.labels_)"
      ],
      "metadata": {
        "colab": {
          "base_uri": "https://localhost:8080/"
        },
        "id": "SiK3ZH2gDLXI",
        "outputId": "76de23bb-b652-47e6-cb17-9e33f8095357"
      },
      "execution_count": 77,
      "outputs": [
        {
          "output_type": "execute_result",
          "data": {
            "text/plain": [
              "0.533909575079872"
            ]
          },
          "metadata": {},
          "execution_count": 77
        }
      ]
    },
    {
      "cell_type": "code",
      "source": [
        "adjusted_mutual_info_score(labels_true=df['ClassId'], labels_pred=kmeans_model.labels_)"
      ],
      "metadata": {
        "colab": {
          "base_uri": "https://localhost:8080/"
        },
        "id": "GxKEvYl2DrKr",
        "outputId": "d38be25d-7599-4d97-9326-7353cfd1cefe"
      },
      "execution_count": 78,
      "outputs": [
        {
          "output_type": "execute_result",
          "data": {
            "text/plain": [
              "0.6565862526671141"
            ]
          },
          "metadata": {},
          "execution_count": 78
        }
      ]
    },
    {
      "cell_type": "code",
      "source": [
        "silhouette_score(normalization_data, kmeans_model.labels_)"
      ],
      "metadata": {
        "colab": {
          "base_uri": "https://localhost:8080/"
        },
        "id": "AanDfzRZDxvj",
        "outputId": "8790b6ee-e624-4824-baf1-bc202228fd9f"
      },
      "execution_count": 79,
      "outputs": [
        {
          "output_type": "execute_result",
          "data": {
            "text/plain": [
              "0.3279612849691294"
            ]
          },
          "metadata": {},
          "execution_count": 79
        }
      ]
    },
    {
      "cell_type": "markdown",
      "source": [
        "##Agglomerative"
      ],
      "metadata": {
        "id": "ouCnSVCyIb0J"
      }
    },
    {
      "cell_type": "markdown",
      "source": [
        "تغییر مقادیر پارامتر‌ها باعث بهبود کلاسترینگ نشد"
      ],
      "metadata": {
        "id": "oHbx0RQKbE1w"
      }
    },
    {
      "cell_type": "code",
      "source": [
        "agglomerative_clustering = AgglomerativeClustering(n_clusters=7)\n",
        "agglomerative_clustering.fit(normalization_data)"
      ],
      "metadata": {
        "colab": {
          "base_uri": "https://localhost:8080/"
        },
        "id": "v2V2TUkfI1w9",
        "outputId": "98948c4a-bbda-48ce-e90f-fe0023a7c142"
      },
      "execution_count": 80,
      "outputs": [
        {
          "output_type": "execute_result",
          "data": {
            "text/plain": [
              "AgglomerativeClustering(n_clusters=7)"
            ]
          },
          "metadata": {},
          "execution_count": 80
        }
      ]
    },
    {
      "cell_type": "code",
      "source": [
        "adjusted_rand_score(labels_true=df['ClassId'], labels_pred=agglomerative_clustering.labels_)"
      ],
      "metadata": {
        "colab": {
          "base_uri": "https://localhost:8080/"
        },
        "id": "O3mVX4JhJDgE",
        "outputId": "203791f5-8e05-4b06-c48f-7b57d979f2b1"
      },
      "execution_count": 81,
      "outputs": [
        {
          "output_type": "execute_result",
          "data": {
            "text/plain": [
              "0.5616136676566953"
            ]
          },
          "metadata": {},
          "execution_count": 81
        }
      ]
    },
    {
      "cell_type": "code",
      "source": [
        "adjusted_mutual_info_score(labels_true=df['ClassId'], labels_pred=agglomerative_clustering.labels_)"
      ],
      "metadata": {
        "colab": {
          "base_uri": "https://localhost:8080/"
        },
        "id": "NGFPexZDJGQl",
        "outputId": "69886082-19e2-4ee6-c28d-5044cdb8e36b"
      },
      "execution_count": 82,
      "outputs": [
        {
          "output_type": "execute_result",
          "data": {
            "text/plain": [
              "0.7235189832288164"
            ]
          },
          "metadata": {},
          "execution_count": 82
        }
      ]
    },
    {
      "cell_type": "code",
      "source": [
        "silhouette_score(normalization_data, agglomerative_clustering.labels_)"
      ],
      "metadata": {
        "colab": {
          "base_uri": "https://localhost:8080/"
        },
        "id": "3CwgcxqaJH62",
        "outputId": "9875b891-6489-476b-e0dc-9080039f9970"
      },
      "execution_count": 83,
      "outputs": [
        {
          "output_type": "execute_result",
          "data": {
            "text/plain": [
              "0.30752458463587656"
            ]
          },
          "metadata": {},
          "execution_count": 83
        }
      ]
    },
    {
      "cell_type": "markdown",
      "source": [
        "##DBScan"
      ],
      "metadata": {
        "id": "Klw2FZPtJRzQ"
      }
    },
    {
      "cell_type": "markdown",
      "source": [
        "طبق بررسی‌ها اجرا‌های متعدد برای مقادیر متفاوت اپسیلون و مینیمم سمپل بهترین عملکرد مطابق با پایین می‌باشد. این مقادیر برای پارامتر‌ها به‌صورتی تست شده‌اند که تعداد کلاستر‌های بدست آمده طبق صورت پروژه در این الگوریتم دقیقا برابر ۷ باشند"
      ],
      "metadata": {
        "id": "wjak_pymY3iz"
      }
    },
    {
      "cell_type": "markdown",
      "source": [
        "###without outlier"
      ],
      "metadata": {
        "id": "l8j6Td8nw_BB"
      }
    },
    {
      "cell_type": "code",
      "source": [
        "DBScan_clustring = DBSCAN(eps=0.095, min_samples=22)\n",
        "DBScan_clustring.fit(normalization_data)"
      ],
      "metadata": {
        "colab": {
          "base_uri": "https://localhost:8080/"
        },
        "id": "SgbEwcVMJWIc",
        "outputId": "f993bcfd-bf2d-411c-a591-cae4ea8e9bfe"
      },
      "execution_count": 84,
      "outputs": [
        {
          "output_type": "execute_result",
          "data": {
            "text/plain": [
              "DBSCAN(eps=0.095, min_samples=22)"
            ]
          },
          "metadata": {},
          "execution_count": 84
        }
      ]
    },
    {
      "cell_type": "markdown",
      "source": [
        "number of clusters<br/>\n",
        "مقدار -۱ بدست آمده نویز به حساب می‌آیند بنابراین در صورت وجود نویز یک از طول آرایه‌ی یونیک شماره کلاستر‌ها کم می‌کنیم"
      ],
      "metadata": {
        "id": "ATs4D8agjhlQ"
      }
    },
    {
      "cell_type": "code",
      "source": [
        "len(set(DBScan_clustring.labels_)) - (1 if -1 in DBScan_clustring.labels_ else 0)"
      ],
      "metadata": {
        "colab": {
          "base_uri": "https://localhost:8080/"
        },
        "id": "jOzn3SOejMxq",
        "outputId": "055d3484-d10b-44e9-85ee-48dab184857c"
      },
      "execution_count": 85,
      "outputs": [
        {
          "output_type": "execute_result",
          "data": {
            "text/plain": [
              "7"
            ]
          },
          "metadata": {},
          "execution_count": 85
        }
      ]
    },
    {
      "cell_type": "code",
      "source": [
        "adjusted_rand_score(labels_true=df['ClassId'], labels_pred=DBScan_clustring.labels_)"
      ],
      "metadata": {
        "colab": {
          "base_uri": "https://localhost:8080/"
        },
        "id": "OAK6tjinJ6bK",
        "outputId": "916edb2e-f3a7-42da-d82b-11a5b5b45534"
      },
      "execution_count": 86,
      "outputs": [
        {
          "output_type": "execute_result",
          "data": {
            "text/plain": [
              "0.2602868720153313"
            ]
          },
          "metadata": {},
          "execution_count": 86
        }
      ]
    },
    {
      "cell_type": "code",
      "source": [
        "adjusted_mutual_info_score(labels_true=df['ClassId'], labels_pred=DBScan_clustring.labels_)"
      ],
      "metadata": {
        "colab": {
          "base_uri": "https://localhost:8080/"
        },
        "id": "AFa3Wx6jJ7-c",
        "outputId": "c5866b49-fffd-4d00-9c84-26d0f8a90add"
      },
      "execution_count": 87,
      "outputs": [
        {
          "output_type": "execute_result",
          "data": {
            "text/plain": [
              "0.4186679618446456"
            ]
          },
          "metadata": {},
          "execution_count": 87
        }
      ]
    },
    {
      "cell_type": "code",
      "source": [
        "silhouette_score(normalization_data, DBScan_clustring.labels_)"
      ],
      "metadata": {
        "colab": {
          "base_uri": "https://localhost:8080/"
        },
        "id": "SksL5NtrJ9VT",
        "outputId": "2fc7cb1d-bc28-44b4-c88b-7ccfa47135b7"
      },
      "execution_count": 88,
      "outputs": [
        {
          "output_type": "execute_result",
          "data": {
            "text/plain": [
              "0.045811151075956236"
            ]
          },
          "metadata": {},
          "execution_count": 88
        }
      ]
    },
    {
      "cell_type": "markdown",
      "source": [
        "###with outlier"
      ],
      "metadata": {
        "id": "6zuU9qR4xDY4"
      }
    },
    {
      "cell_type": "code",
      "source": [
        "DBScan_clustring = DBSCAN(eps=0.06, min_samples=22)\n",
        "DBScan_clustring.fit(normalization_data_with_outli)"
      ],
      "metadata": {
        "colab": {
          "base_uri": "https://localhost:8080/"
        },
        "id": "7XV0bGNkxIif",
        "outputId": "0b7f8287-5fca-43fd-ddf4-3a869274e4e5"
      },
      "execution_count": 89,
      "outputs": [
        {
          "output_type": "execute_result",
          "data": {
            "text/plain": [
              "DBSCAN(eps=0.06, min_samples=22)"
            ]
          },
          "metadata": {},
          "execution_count": 89
        }
      ]
    },
    {
      "cell_type": "code",
      "source": [
        "len(set(DBScan_clustring.labels_)) - (1 if -1 in DBScan_clustring.labels_ else 0)"
      ],
      "metadata": {
        "colab": {
          "base_uri": "https://localhost:8080/"
        },
        "id": "28aaDqoTxPgw",
        "outputId": "f4afae43-35b2-4f24-f8c7-82936113fd36"
      },
      "execution_count": 90,
      "outputs": [
        {
          "output_type": "execute_result",
          "data": {
            "text/plain": [
              "7"
            ]
          },
          "metadata": {},
          "execution_count": 90
        }
      ]
    },
    {
      "cell_type": "code",
      "source": [
        "adjusted_rand_score(labels_true=df['ClassId'], labels_pred=DBScan_clustring.labels_)"
      ],
      "metadata": {
        "colab": {
          "base_uri": "https://localhost:8080/"
        },
        "id": "VewpFetAxRko",
        "outputId": "217a2e50-53b6-4ea4-e8c3-907c66469d2c"
      },
      "execution_count": 91,
      "outputs": [
        {
          "output_type": "execute_result",
          "data": {
            "text/plain": [
              "0.2451115113673564"
            ]
          },
          "metadata": {},
          "execution_count": 91
        }
      ]
    },
    {
      "cell_type": "code",
      "source": [
        "adjusted_mutual_info_score(labels_true=df['ClassId'], labels_pred=DBScan_clustring.labels_)"
      ],
      "metadata": {
        "colab": {
          "base_uri": "https://localhost:8080/"
        },
        "id": "83ZNemg5xbhp",
        "outputId": "2a32ec45-fcb6-43f1-9a3c-889659f169c8"
      },
      "execution_count": 92,
      "outputs": [
        {
          "output_type": "execute_result",
          "data": {
            "text/plain": [
              "0.4026385807133733"
            ]
          },
          "metadata": {},
          "execution_count": 92
        }
      ]
    },
    {
      "cell_type": "code",
      "source": [
        "silhouette_score(normalization_data, DBScan_clustring.labels_)"
      ],
      "metadata": {
        "colab": {
          "base_uri": "https://localhost:8080/"
        },
        "id": "nrinLHT-xTQr",
        "outputId": "25688408-635e-49c2-f5cd-2a23d684484f"
      },
      "execution_count": 93,
      "outputs": [
        {
          "output_type": "execute_result",
          "data": {
            "text/plain": [
              "0.056719523499816696"
            ]
          },
          "metadata": {},
          "execution_count": 93
        }
      ]
    },
    {
      "cell_type": "markdown",
      "source": [
        "#PCA"
      ],
      "metadata": {
        "id": "08uYmOfUOPHl"
      }
    },
    {
      "cell_type": "markdown",
      "source": [
        "طبق نتایج استفاده از فشرده سازی اطلاعات زیادی را ازبین می‌برد که از ۷ کلاستر  تنها یک کلاس به‌خوبی تفکیک خواهد شد و در بقیه‌ی کلاس‌ها برخی از ناحیه‌ها هم‌پوشانی می‌شود که در ۲ کلاس ناحیه کاملا بر روی یک دیگر قرار دارد و یکی از دیگر کلاس‌ها همپوشانی زیادی با دیگر داده‌ها دارد. بنابراین خوشه‌بندی دوبعدی با دقت بالا امکان پذیر نمی‌باشد. "
      ],
      "metadata": {
        "id": "ZlVyWSDgPq-K"
      }
    },
    {
      "cell_type": "code",
      "source": [
        "pca = PCA(n_components=2)\n",
        "comperssed_data = pca.fit_transform(normalization_data)\n",
        "comperssed_data"
      ],
      "metadata": {
        "colab": {
          "base_uri": "https://localhost:8080/"
        },
        "id": "_oDFWR2NOQKI",
        "outputId": "aee51aa3-df03-46d8-c389-df7e94d2dc06"
      },
      "execution_count": 94,
      "outputs": [
        {
          "output_type": "execute_result",
          "data": {
            "text/plain": [
              "array([[-0.15787768, -0.09053911],\n",
              "       [ 0.6517787 ,  0.71380498],\n",
              "       [-0.25055225,  0.01796336],\n",
              "       ...,\n",
              "       [-0.21476215, -0.28708406],\n",
              "       [-0.42988022,  0.02907554],\n",
              "       [-0.36157487,  0.02059342]])"
            ]
          },
          "metadata": {},
          "execution_count": 94
        }
      ]
    },
    {
      "cell_type": "code",
      "source": [
        "comperssed_data.shape"
      ],
      "metadata": {
        "colab": {
          "base_uri": "https://localhost:8080/"
        },
        "id": "M-QvdVlmOzpD",
        "outputId": "ee68805a-0352-4f19-cac6-1be1c555cfa3"
      },
      "execution_count": 95,
      "outputs": [
        {
          "output_type": "execute_result",
          "data": {
            "text/plain": [
              "(13611, 2)"
            ]
          },
          "metadata": {},
          "execution_count": 95
        }
      ]
    },
    {
      "cell_type": "code",
      "source": [
        "plt.scatter(comperssed_data.T[0], comperssed_data.T[1], c=df['ClassId'], cmap='gist_rainbow')"
      ],
      "metadata": {
        "colab": {
          "base_uri": "https://localhost:8080/",
          "height": 0
        },
        "id": "zy1d1O8eO8uq",
        "outputId": "74e7bb88-fc95-4203-b4ae-aa3c8ed259fd"
      },
      "execution_count": 96,
      "outputs": [
        {
          "output_type": "execute_result",
          "data": {
            "text/plain": [
              "<matplotlib.collections.PathCollection at 0x7f30bac34950>"
            ]
          },
          "metadata": {},
          "execution_count": 96
        },
        {
          "output_type": "display_data",
          "data": {
            "text/plain": [
              "<Figure size 432x288 with 1 Axes>"
            ],
            "image/png": "[encoded data removed]"
          },
          "metadata": {
            "needs_background": "light"
          }
        }
      ]
    }
  ]
}